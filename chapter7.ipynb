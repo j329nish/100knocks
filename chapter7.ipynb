{
  "nbformat": 4,
  "nbformat_minor": 0,
  "metadata": {
    "colab": {
      "provenance": []
    },
    "kernelspec": {
      "name": "python3",
      "display_name": "Python 3"
    },
    "language_info": {
      "name": "python"
    }
  },
  "cells": [
    {
      "cell_type": "markdown",
      "source": [
        "# 第7章: 機械学習"
      ],
      "metadata": {
        "id": "Xf6AN8c2hJub"
      }
    },
    {
      "cell_type": "markdown",
      "source": [
        "## 60. データの入手・整形"
      ],
      "metadata": {
        "id": "XX44vxeMhSTU"
      }
    },
    {
      "cell_type": "code",
      "execution_count": 26,
      "metadata": {
        "id": "JChoVtrPhDBu",
        "colab": {
          "base_uri": "https://localhost:8080/"
        },
        "outputId": "c04e926a-2772-4b52-977b-199b5c02ded8"
      },
      "outputs": [
        {
          "output_type": "stream",
          "name": "stdout",
          "text": [
            "学習データのポジティブの事例数： 37569 , ネガティブの事例数： 29780\n",
            "検証データのポジティブの事例数： 444 , ネガティブの事例数： 428\n"
          ]
        }
      ],
      "source": [
        "import csv\n",
        "\n",
        "def pos_or_neg(file_name):\n",
        "  positive = 0\n",
        "  negative = 0\n",
        "  with open(file_name, 'r', encoding='utf-8') as f:\n",
        "    reader = csv.reader(f, delimiter='\\t')\n",
        "    next(reader)\n",
        "    for row in reader:\n",
        "      if (row[1] == '1'):\n",
        "        positive += 1\n",
        "      else:\n",
        "        negative += 1\n",
        "  return positive, negative\n",
        "\n",
        "train_positive, train_negative = pos_or_neg('./data/SST-2/train.tsv')\n",
        "dev_positive, dev_negative = pos_or_neg('./data/SST-2/dev.tsv')\n",
        "\n",
        "print('学習データのポジティブの事例数：', train_positive, ', ネガティブの事例数：', train_negative)\n",
        "print('検証データのポジティブの事例数：', dev_positive, ', ネガティブの事例数：', dev_negative)\n",
        "\n",
        "# TSVファイルの処理     https://words.af-e.net/extension-tsv/#google_vignette\n",
        "# 最初の行を読み捨てる  https://ensta-blog.com/python/next/"
      ]
    },
    {
      "cell_type": "markdown",
      "source": [
        "## 61. 特徴ベクトル"
      ],
      "metadata": {
        "id": "52osIZHzoJi_"
      }
    },
    {
      "cell_type": "code",
      "source": [
        "import collections\n",
        "\n",
        "def make_dict(file_name):\n",
        "  dictionary = []\n",
        "  with open(file_name, 'r', encoding='utf-8') as f:\n",
        "    reader = csv.reader(f, delimiter='\\t')\n",
        "    next(reader)\n",
        "    for row in reader:\n",
        "      feature = dict(collections.Counter(row[0].split()))\n",
        "      dictionary.append({'text': row[0], 'label': row[1], 'feature': feature})\n",
        "  return dictionary\n",
        "\n",
        "train_dict =  make_dict('./data/SST-2/train.tsv')\n",
        "dev_dict = make_dict('./data/SST-2/dev.tsv')\n",
        "\n",
        "print('学習データのリスト：')\n",
        "for i in range(5):\n",
        "  print(train_dict[i])\n",
        "print('')\n",
        "\n",
        "print('検証データのリスト：')\n",
        "for i in range(5):\n",
        "  print(dev_dict[i])"
      ],
      "metadata": {
        "colab": {
          "base_uri": "https://localhost:8080/"
        },
        "id": "2gHmcwQvoIDW",
        "outputId": "afb353ed-6ee0-4715-812d-d702a61d6193"
      },
      "execution_count": 32,
      "outputs": [
        {
          "output_type": "stream",
          "name": "stdout",
          "text": [
            "学習データのリスト：\n",
            "{'text': 'hide new secretions from the parental units ', 'label': '0', 'feature': {'hide': 1, 'new': 1, 'secretions': 1, 'from': 1, 'the': 1, 'parental': 1, 'units': 1}}\n",
            "{'text': 'contains no wit , only labored gags ', 'label': '0', 'feature': {'contains': 1, 'no': 1, 'wit': 1, ',': 1, 'only': 1, 'labored': 1, 'gags': 1}}\n",
            "{'text': 'that loves its characters and communicates something rather beautiful about human nature ', 'label': '1', 'feature': {'that': 1, 'loves': 1, 'its': 1, 'characters': 1, 'and': 1, 'communicates': 1, 'something': 1, 'rather': 1, 'beautiful': 1, 'about': 1, 'human': 1, 'nature': 1}}\n",
            "{'text': 'remains utterly satisfied to remain the same throughout ', 'label': '0', 'feature': {'remains': 1, 'utterly': 1, 'satisfied': 1, 'to': 1, 'remain': 1, 'the': 1, 'same': 1, 'throughout': 1}}\n",
            "{'text': 'on the worst revenge-of-the-nerds clichés the filmmakers could dredge up ', 'label': '0', 'feature': {'on': 1, 'the': 2, 'worst': 1, 'revenge-of-the-nerds': 1, 'clichés': 1, 'filmmakers': 1, 'could': 1, 'dredge': 1, 'up': 1}}\n",
            "\n",
            "検証データのリスト：\n",
            "{'text': \"it 's a charming and often affecting journey . \", 'label': '1', 'feature': {'it': 1, \"'s\": 1, 'a': 1, 'charming': 1, 'and': 1, 'often': 1, 'affecting': 1, 'journey': 1, '.': 1}}\n",
            "{'text': 'unflinchingly bleak and desperate ', 'label': '0', 'feature': {'unflinchingly': 1, 'bleak': 1, 'and': 1, 'desperate': 1}}\n",
            "{'text': 'allows us to hope that nolan is poised to embark a major career as a commercial yet inventive filmmaker . ', 'label': '1', 'feature': {'allows': 1, 'us': 1, 'to': 2, 'hope': 1, 'that': 1, 'nolan': 1, 'is': 1, 'poised': 1, 'embark': 1, 'a': 2, 'major': 1, 'career': 1, 'as': 1, 'commercial': 1, 'yet': 1, 'inventive': 1, 'filmmaker': 1, '.': 1}}\n",
            "{'text': \"the acting , costumes , music , cinematography and sound are all astounding given the production 's austere locales . \", 'label': '1', 'feature': {'the': 2, 'acting': 1, ',': 3, 'costumes': 1, 'music': 1, 'cinematography': 1, 'and': 1, 'sound': 1, 'are': 1, 'all': 1, 'astounding': 1, 'given': 1, 'production': 1, \"'s\": 1, 'austere': 1, 'locales': 1, '.': 1}}\n",
            "{'text': \"it 's slow -- very , very slow . \", 'label': '0', 'feature': {'it': 1, \"'s\": 1, 'slow': 2, '--': 1, 'very': 2, ',': 1, '.': 1}}\n"
          ]
        }
      ]
    },
    {
      "cell_type": "markdown",
      "source": [
        "## 62. 学習"
      ],
      "metadata": {
        "id": "qLkOO38HzD0q"
      }
    },
    {
      "cell_type": "code",
      "source": [],
      "metadata": {
        "id": "ldVaDxcozDWA"
      },
      "execution_count": 33,
      "outputs": []
    },
    {
      "cell_type": "markdown",
      "source": [
        "## 63. 予測"
      ],
      "metadata": {
        "id": "bYHuYBbOzlas"
      }
    },
    {
      "cell_type": "code",
      "source": [],
      "metadata": {
        "id": "YlJAKJ9WzlJ-"
      },
      "execution_count": null,
      "outputs": []
    },
    {
      "cell_type": "markdown",
      "source": [
        "## 64. 条件付き確率"
      ],
      "metadata": {
        "id": "E43TtpL8zotb"
      }
    },
    {
      "cell_type": "code",
      "source": [],
      "metadata": {
        "id": "EJ4wVVhYzqPe"
      },
      "execution_count": null,
      "outputs": []
    },
    {
      "cell_type": "markdown",
      "source": [
        "## 65. テキストのポジネガの予測"
      ],
      "metadata": {
        "id": "S6tugLrHzsAX"
      }
    },
    {
      "cell_type": "code",
      "source": [],
      "metadata": {
        "id": "RUbyZXqVzt6L"
      },
      "execution_count": null,
      "outputs": []
    },
    {
      "cell_type": "markdown",
      "source": [
        "## 66. 混同行列の作成"
      ],
      "metadata": {
        "id": "4dm4YaFQzuK1"
      }
    },
    {
      "cell_type": "code",
      "source": [],
      "metadata": {
        "id": "SDOOnsfgzvgT"
      },
      "execution_count": null,
      "outputs": []
    },
    {
      "cell_type": "markdown",
      "source": [
        "## 67. 精度の計測"
      ],
      "metadata": {
        "id": "Nax0X0UEzvwN"
      }
    },
    {
      "cell_type": "code",
      "source": [],
      "metadata": {
        "id": "_ibUTY2Xzy9V"
      },
      "execution_count": null,
      "outputs": []
    },
    {
      "cell_type": "markdown",
      "source": [
        "## 68. 特徴量の重みの確認"
      ],
      "metadata": {
        "id": "AHi6GQTEzzhA"
      }
    },
    {
      "cell_type": "code",
      "source": [],
      "metadata": {
        "id": "AzqUEVVwz06F"
      },
      "execution_count": null,
      "outputs": []
    },
    {
      "cell_type": "markdown",
      "source": [
        "## 69. 正則化パラメータの変更"
      ],
      "metadata": {
        "id": "YF2ebW2Jz1hD"
      }
    },
    {
      "cell_type": "code",
      "source": [],
      "metadata": {
        "id": "28xFioT0z20V"
      },
      "execution_count": null,
      "outputs": []
    }
  ]
}