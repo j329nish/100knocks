{
  "nbformat": 4,
  "nbformat_minor": 0,
  "metadata": {
    "colab": {
      "provenance": []
    },
    "kernelspec": {
      "name": "python3",
      "display_name": "Python 3"
    },
    "language_info": {
      "name": "python"
    }
  },
  "cells": [
    {
      "cell_type": "markdown",
      "source": [
        "# 第7章: 機械学習"
      ],
      "metadata": {
        "id": "Xf6AN8c2hJub"
      }
    },
    {
      "cell_type": "markdown",
      "source": [
        "## 60. データの入手・整形"
      ],
      "metadata": {
        "id": "XX44vxeMhSTU"
      }
    },
    {
      "cell_type": "code",
      "source": [
        "!wget https://dl.fbaipublicfiles.com/glue/data/SST-2.zip -P data/\n",
        "!unzip -o data/SST-2.zip -d data/\n",
        "!rm data/SST-2.zip"
      ],
      "metadata": {
        "colab": {
          "base_uri": "https://localhost:8080/"
        },
        "id": "7Y8yBQZlEHpN",
        "outputId": "f4d3065e-e8ee-4b9b-c6f9-2552511ed765"
      },
      "execution_count": 1,
      "outputs": [
        {
          "output_type": "stream",
          "name": "stdout",
          "text": [
            "--2025-04-22 01:23:38--  https://dl.fbaipublicfiles.com/glue/data/SST-2.zip\n",
            "Resolving dl.fbaipublicfiles.com (dl.fbaipublicfiles.com)... 3.171.22.68, 3.171.22.13, 3.171.22.118, ...\n",
            "Connecting to dl.fbaipublicfiles.com (dl.fbaipublicfiles.com)|3.171.22.68|:443... connected.\n",
            "HTTP request sent, awaiting response... 200 OK\n",
            "Length: 7439277 (7.1M) [application/zip]\n",
            "Saving to: ‘data/SST-2.zip’\n",
            "\n",
            "\rSST-2.zip             0%[                    ]       0  --.-KB/s               \rSST-2.zip           100%[===================>]   7.09M  --.-KB/s    in 0.1s    \n",
            "\n",
            "2025-04-22 01:23:39 (57.6 MB/s) - ‘data/SST-2.zip’ saved [7439277/7439277]\n",
            "\n",
            "Archive:  data/SST-2.zip\n",
            "  inflating: data/SST-2/dev.tsv      \n",
            "  inflating: data/SST-2/original/README.txt  \n",
            "  inflating: data/SST-2/original/SOStr.txt  \n",
            "  inflating: data/SST-2/original/STree.txt  \n",
            "  inflating: data/SST-2/original/datasetSentences.txt  \n",
            "  inflating: data/SST-2/original/datasetSplit.txt  \n",
            "  inflating: data/SST-2/original/dictionary.txt  \n",
            "  inflating: data/SST-2/original/original_rt_snippets.txt  \n",
            "  inflating: data/SST-2/original/sentiment_labels.txt  \n",
            "  inflating: data/SST-2/test.tsv     \n",
            "  inflating: data/SST-2/train.tsv    \n"
          ]
        }
      ]
    },
    {
      "cell_type": "code",
      "execution_count": 2,
      "metadata": {
        "id": "JChoVtrPhDBu",
        "colab": {
          "base_uri": "https://localhost:8080/"
        },
        "outputId": "a2f23e1b-f222-4dd5-c620-fb4259d30392"
      },
      "outputs": [
        {
          "output_type": "stream",
          "name": "stdout",
          "text": [
            "学習データのポジティブの事例数： 37569 , ネガティブの事例数： 29780\n",
            "検証データのポジティブの事例数： 444 , ネガティブの事例数： 428\n"
          ]
        }
      ],
      "source": [
        "import csv\n",
        "\n",
        "def pos_or_neg(file_name):\n",
        "  positive = 0\n",
        "  negative = 0\n",
        "  with open(file_name, 'r', encoding='utf-8') as f:\n",
        "    reader = csv.reader(f, delimiter='\\t')\n",
        "    next(reader)\n",
        "    for row in reader:\n",
        "      if (row[1] == '1'):\n",
        "        positive += 1\n",
        "      else:\n",
        "        negative += 1\n",
        "  return positive, negative\n",
        "\n",
        "train_positive, train_negative = pos_or_neg('./data/SST-2/train.tsv')\n",
        "dev_positive, dev_negative = pos_or_neg('./data/SST-2/dev.tsv')\n",
        "\n",
        "print('学習データのポジティブの事例数：', train_positive, ', ネガティブの事例数：', train_negative)\n",
        "print('検証データのポジティブの事例数：', dev_positive, ', ネガティブの事例数：', dev_negative)\n",
        "\n",
        "# TSVファイルの処理     https://words.af-e.net/extension-tsv/#google_vignette\n",
        "# 最初の行を読み捨てる  https://ensta-blog.com/python/next/"
      ]
    },
    {
      "cell_type": "markdown",
      "source": [
        "## 61. 特徴ベクトル"
      ],
      "metadata": {
        "id": "52osIZHzoJi_"
      }
    },
    {
      "cell_type": "code",
      "source": [
        "import collections\n",
        "\n",
        "def make_dict(file_name):\n",
        "  dictionary = []\n",
        "  with open(file_name, 'r', encoding='utf-8') as f:\n",
        "    reader = csv.reader(f, delimiter='\\t')\n",
        "    next(reader)\n",
        "    for row in reader:\n",
        "      feature = dict(collections.Counter(row[0].split()))\n",
        "      dictionary.append({'text': row[0], 'label': row[1], 'feature': feature})\n",
        "  return dictionary\n",
        "\n",
        "train_dict =  make_dict('./data/SST-2/train.tsv')\n",
        "dev_dict = make_dict('./data/SST-2/dev.tsv')\n",
        "\n",
        "print('学習データのリスト：')\n",
        "for i in range(5):\n",
        "  print(train_dict[i])\n",
        "print('')\n",
        "\n",
        "print('検証データのリスト：')\n",
        "for i in range(5):\n",
        "  print(dev_dict[i])"
      ],
      "metadata": {
        "colab": {
          "base_uri": "https://localhost:8080/"
        },
        "id": "2gHmcwQvoIDW",
        "outputId": "71b1f7a9-5569-4363-cfeb-fc32053a8f76"
      },
      "execution_count": 3,
      "outputs": [
        {
          "output_type": "stream",
          "name": "stdout",
          "text": [
            "学習データのリスト：\n",
            "{'text': 'hide new secretions from the parental units ', 'label': '0', 'feature': {'hide': 1, 'new': 1, 'secretions': 1, 'from': 1, 'the': 1, 'parental': 1, 'units': 1}}\n",
            "{'text': 'contains no wit , only labored gags ', 'label': '0', 'feature': {'contains': 1, 'no': 1, 'wit': 1, ',': 1, 'only': 1, 'labored': 1, 'gags': 1}}\n",
            "{'text': 'that loves its characters and communicates something rather beautiful about human nature ', 'label': '1', 'feature': {'that': 1, 'loves': 1, 'its': 1, 'characters': 1, 'and': 1, 'communicates': 1, 'something': 1, 'rather': 1, 'beautiful': 1, 'about': 1, 'human': 1, 'nature': 1}}\n",
            "{'text': 'remains utterly satisfied to remain the same throughout ', 'label': '0', 'feature': {'remains': 1, 'utterly': 1, 'satisfied': 1, 'to': 1, 'remain': 1, 'the': 1, 'same': 1, 'throughout': 1}}\n",
            "{'text': 'on the worst revenge-of-the-nerds clichés the filmmakers could dredge up ', 'label': '0', 'feature': {'on': 1, 'the': 2, 'worst': 1, 'revenge-of-the-nerds': 1, 'clichés': 1, 'filmmakers': 1, 'could': 1, 'dredge': 1, 'up': 1}}\n",
            "\n",
            "検証データのリスト：\n",
            "{'text': \"it 's a charming and often affecting journey . \", 'label': '1', 'feature': {'it': 1, \"'s\": 1, 'a': 1, 'charming': 1, 'and': 1, 'often': 1, 'affecting': 1, 'journey': 1, '.': 1}}\n",
            "{'text': 'unflinchingly bleak and desperate ', 'label': '0', 'feature': {'unflinchingly': 1, 'bleak': 1, 'and': 1, 'desperate': 1}}\n",
            "{'text': 'allows us to hope that nolan is poised to embark a major career as a commercial yet inventive filmmaker . ', 'label': '1', 'feature': {'allows': 1, 'us': 1, 'to': 2, 'hope': 1, 'that': 1, 'nolan': 1, 'is': 1, 'poised': 1, 'embark': 1, 'a': 2, 'major': 1, 'career': 1, 'as': 1, 'commercial': 1, 'yet': 1, 'inventive': 1, 'filmmaker': 1, '.': 1}}\n",
            "{'text': \"the acting , costumes , music , cinematography and sound are all astounding given the production 's austere locales . \", 'label': '1', 'feature': {'the': 2, 'acting': 1, ',': 3, 'costumes': 1, 'music': 1, 'cinematography': 1, 'and': 1, 'sound': 1, 'are': 1, 'all': 1, 'astounding': 1, 'given': 1, 'production': 1, \"'s\": 1, 'austere': 1, 'locales': 1, '.': 1}}\n",
            "{'text': \"it 's slow -- very , very slow . \", 'label': '0', 'feature': {'it': 1, \"'s\": 1, 'slow': 2, '--': 1, 'very': 2, ',': 1, '.': 1}}\n"
          ]
        }
      ]
    },
    {
      "cell_type": "markdown",
      "source": [
        "## 62. 学習"
      ],
      "metadata": {
        "id": "qLkOO38HzD0q"
      }
    },
    {
      "cell_type": "code",
      "source": [
        "from sklearn.feature_extraction import DictVectorizer\n",
        "from sklearn.linear_model import LogisticRegression\n",
        "\n",
        "# 学習データのベクトル化\n",
        "vec = DictVectorizer()\n",
        "X_train_feature = [data['feature'] for data in train_dict]\n",
        "X_train = vec.fit_transform(X_train_feature)\n",
        "Y_train = [data['label'] for data in train_dict]\n",
        "\n",
        "# 学習\n",
        "logistic = LogisticRegression(solver='liblinear')\n",
        "logistic.fit(X_train, Y_train)\n",
        "\n",
        "# ベクトル化          https://nakano-tomofumi.hatenablog.com/entry/2017/11/06/121729\n",
        "# ロジスティック回帰  https://qiita.com/renesisu727/items/6df782aaf8b53062cdb6"
      ],
      "metadata": {
        "id": "ldVaDxcozDWA",
        "colab": {
          "base_uri": "https://localhost:8080/",
          "height": 80
        },
        "outputId": "9ef49ace-9c16-415b-f245-0667294de290"
      },
      "execution_count": 4,
      "outputs": [
        {
          "output_type": "execute_result",
          "data": {
            "text/plain": [
              "LogisticRegression(solver='liblinear')"
            ],
            "text/html": [
              "<style>#sk-container-id-1 {\n",
              "  /* Definition of color scheme common for light and dark mode */\n",
              "  --sklearn-color-text: #000;\n",
              "  --sklearn-color-text-muted: #666;\n",
              "  --sklearn-color-line: gray;\n",
              "  /* Definition of color scheme for unfitted estimators */\n",
              "  --sklearn-color-unfitted-level-0: #fff5e6;\n",
              "  --sklearn-color-unfitted-level-1: #f6e4d2;\n",
              "  --sklearn-color-unfitted-level-2: #ffe0b3;\n",
              "  --sklearn-color-unfitted-level-3: chocolate;\n",
              "  /* Definition of color scheme for fitted estimators */\n",
              "  --sklearn-color-fitted-level-0: #f0f8ff;\n",
              "  --sklearn-color-fitted-level-1: #d4ebff;\n",
              "  --sklearn-color-fitted-level-2: #b3dbfd;\n",
              "  --sklearn-color-fitted-level-3: cornflowerblue;\n",
              "\n",
              "  /* Specific color for light theme */\n",
              "  --sklearn-color-text-on-default-background: var(--sg-text-color, var(--theme-code-foreground, var(--jp-content-font-color1, black)));\n",
              "  --sklearn-color-background: var(--sg-background-color, var(--theme-background, var(--jp-layout-color0, white)));\n",
              "  --sklearn-color-border-box: var(--sg-text-color, var(--theme-code-foreground, var(--jp-content-font-color1, black)));\n",
              "  --sklearn-color-icon: #696969;\n",
              "\n",
              "  @media (prefers-color-scheme: dark) {\n",
              "    /* Redefinition of color scheme for dark theme */\n",
              "    --sklearn-color-text-on-default-background: var(--sg-text-color, var(--theme-code-foreground, var(--jp-content-font-color1, white)));\n",
              "    --sklearn-color-background: var(--sg-background-color, var(--theme-background, var(--jp-layout-color0, #111)));\n",
              "    --sklearn-color-border-box: var(--sg-text-color, var(--theme-code-foreground, var(--jp-content-font-color1, white)));\n",
              "    --sklearn-color-icon: #878787;\n",
              "  }\n",
              "}\n",
              "\n",
              "#sk-container-id-1 {\n",
              "  color: var(--sklearn-color-text);\n",
              "}\n",
              "\n",
              "#sk-container-id-1 pre {\n",
              "  padding: 0;\n",
              "}\n",
              "\n",
              "#sk-container-id-1 input.sk-hidden--visually {\n",
              "  border: 0;\n",
              "  clip: rect(1px 1px 1px 1px);\n",
              "  clip: rect(1px, 1px, 1px, 1px);\n",
              "  height: 1px;\n",
              "  margin: -1px;\n",
              "  overflow: hidden;\n",
              "  padding: 0;\n",
              "  position: absolute;\n",
              "  width: 1px;\n",
              "}\n",
              "\n",
              "#sk-container-id-1 div.sk-dashed-wrapped {\n",
              "  border: 1px dashed var(--sklearn-color-line);\n",
              "  margin: 0 0.4em 0.5em 0.4em;\n",
              "  box-sizing: border-box;\n",
              "  padding-bottom: 0.4em;\n",
              "  background-color: var(--sklearn-color-background);\n",
              "}\n",
              "\n",
              "#sk-container-id-1 div.sk-container {\n",
              "  /* jupyter's `normalize.less` sets `[hidden] { display: none; }`\n",
              "     but bootstrap.min.css set `[hidden] { display: none !important; }`\n",
              "     so we also need the `!important` here to be able to override the\n",
              "     default hidden behavior on the sphinx rendered scikit-learn.org.\n",
              "     See: https://github.com/scikit-learn/scikit-learn/issues/21755 */\n",
              "  display: inline-block !important;\n",
              "  position: relative;\n",
              "}\n",
              "\n",
              "#sk-container-id-1 div.sk-text-repr-fallback {\n",
              "  display: none;\n",
              "}\n",
              "\n",
              "div.sk-parallel-item,\n",
              "div.sk-serial,\n",
              "div.sk-item {\n",
              "  /* draw centered vertical line to link estimators */\n",
              "  background-image: linear-gradient(var(--sklearn-color-text-on-default-background), var(--sklearn-color-text-on-default-background));\n",
              "  background-size: 2px 100%;\n",
              "  background-repeat: no-repeat;\n",
              "  background-position: center center;\n",
              "}\n",
              "\n",
              "/* Parallel-specific style estimator block */\n",
              "\n",
              "#sk-container-id-1 div.sk-parallel-item::after {\n",
              "  content: \"\";\n",
              "  width: 100%;\n",
              "  border-bottom: 2px solid var(--sklearn-color-text-on-default-background);\n",
              "  flex-grow: 1;\n",
              "}\n",
              "\n",
              "#sk-container-id-1 div.sk-parallel {\n",
              "  display: flex;\n",
              "  align-items: stretch;\n",
              "  justify-content: center;\n",
              "  background-color: var(--sklearn-color-background);\n",
              "  position: relative;\n",
              "}\n",
              "\n",
              "#sk-container-id-1 div.sk-parallel-item {\n",
              "  display: flex;\n",
              "  flex-direction: column;\n",
              "}\n",
              "\n",
              "#sk-container-id-1 div.sk-parallel-item:first-child::after {\n",
              "  align-self: flex-end;\n",
              "  width: 50%;\n",
              "}\n",
              "\n",
              "#sk-container-id-1 div.sk-parallel-item:last-child::after {\n",
              "  align-self: flex-start;\n",
              "  width: 50%;\n",
              "}\n",
              "\n",
              "#sk-container-id-1 div.sk-parallel-item:only-child::after {\n",
              "  width: 0;\n",
              "}\n",
              "\n",
              "/* Serial-specific style estimator block */\n",
              "\n",
              "#sk-container-id-1 div.sk-serial {\n",
              "  display: flex;\n",
              "  flex-direction: column;\n",
              "  align-items: center;\n",
              "  background-color: var(--sklearn-color-background);\n",
              "  padding-right: 1em;\n",
              "  padding-left: 1em;\n",
              "}\n",
              "\n",
              "\n",
              "/* Toggleable style: style used for estimator/Pipeline/ColumnTransformer box that is\n",
              "clickable and can be expanded/collapsed.\n",
              "- Pipeline and ColumnTransformer use this feature and define the default style\n",
              "- Estimators will overwrite some part of the style using the `sk-estimator` class\n",
              "*/\n",
              "\n",
              "/* Pipeline and ColumnTransformer style (default) */\n",
              "\n",
              "#sk-container-id-1 div.sk-toggleable {\n",
              "  /* Default theme specific background. It is overwritten whether we have a\n",
              "  specific estimator or a Pipeline/ColumnTransformer */\n",
              "  background-color: var(--sklearn-color-background);\n",
              "}\n",
              "\n",
              "/* Toggleable label */\n",
              "#sk-container-id-1 label.sk-toggleable__label {\n",
              "  cursor: pointer;\n",
              "  display: flex;\n",
              "  width: 100%;\n",
              "  margin-bottom: 0;\n",
              "  padding: 0.5em;\n",
              "  box-sizing: border-box;\n",
              "  text-align: center;\n",
              "  align-items: start;\n",
              "  justify-content: space-between;\n",
              "  gap: 0.5em;\n",
              "}\n",
              "\n",
              "#sk-container-id-1 label.sk-toggleable__label .caption {\n",
              "  font-size: 0.6rem;\n",
              "  font-weight: lighter;\n",
              "  color: var(--sklearn-color-text-muted);\n",
              "}\n",
              "\n",
              "#sk-container-id-1 label.sk-toggleable__label-arrow:before {\n",
              "  /* Arrow on the left of the label */\n",
              "  content: \"▸\";\n",
              "  float: left;\n",
              "  margin-right: 0.25em;\n",
              "  color: var(--sklearn-color-icon);\n",
              "}\n",
              "\n",
              "#sk-container-id-1 label.sk-toggleable__label-arrow:hover:before {\n",
              "  color: var(--sklearn-color-text);\n",
              "}\n",
              "\n",
              "/* Toggleable content - dropdown */\n",
              "\n",
              "#sk-container-id-1 div.sk-toggleable__content {\n",
              "  max-height: 0;\n",
              "  max-width: 0;\n",
              "  overflow: hidden;\n",
              "  text-align: left;\n",
              "  /* unfitted */\n",
              "  background-color: var(--sklearn-color-unfitted-level-0);\n",
              "}\n",
              "\n",
              "#sk-container-id-1 div.sk-toggleable__content.fitted {\n",
              "  /* fitted */\n",
              "  background-color: var(--sklearn-color-fitted-level-0);\n",
              "}\n",
              "\n",
              "#sk-container-id-1 div.sk-toggleable__content pre {\n",
              "  margin: 0.2em;\n",
              "  border-radius: 0.25em;\n",
              "  color: var(--sklearn-color-text);\n",
              "  /* unfitted */\n",
              "  background-color: var(--sklearn-color-unfitted-level-0);\n",
              "}\n",
              "\n",
              "#sk-container-id-1 div.sk-toggleable__content.fitted pre {\n",
              "  /* unfitted */\n",
              "  background-color: var(--sklearn-color-fitted-level-0);\n",
              "}\n",
              "\n",
              "#sk-container-id-1 input.sk-toggleable__control:checked~div.sk-toggleable__content {\n",
              "  /* Expand drop-down */\n",
              "  max-height: 200px;\n",
              "  max-width: 100%;\n",
              "  overflow: auto;\n",
              "}\n",
              "\n",
              "#sk-container-id-1 input.sk-toggleable__control:checked~label.sk-toggleable__label-arrow:before {\n",
              "  content: \"▾\";\n",
              "}\n",
              "\n",
              "/* Pipeline/ColumnTransformer-specific style */\n",
              "\n",
              "#sk-container-id-1 div.sk-label input.sk-toggleable__control:checked~label.sk-toggleable__label {\n",
              "  color: var(--sklearn-color-text);\n",
              "  background-color: var(--sklearn-color-unfitted-level-2);\n",
              "}\n",
              "\n",
              "#sk-container-id-1 div.sk-label.fitted input.sk-toggleable__control:checked~label.sk-toggleable__label {\n",
              "  background-color: var(--sklearn-color-fitted-level-2);\n",
              "}\n",
              "\n",
              "/* Estimator-specific style */\n",
              "\n",
              "/* Colorize estimator box */\n",
              "#sk-container-id-1 div.sk-estimator input.sk-toggleable__control:checked~label.sk-toggleable__label {\n",
              "  /* unfitted */\n",
              "  background-color: var(--sklearn-color-unfitted-level-2);\n",
              "}\n",
              "\n",
              "#sk-container-id-1 div.sk-estimator.fitted input.sk-toggleable__control:checked~label.sk-toggleable__label {\n",
              "  /* fitted */\n",
              "  background-color: var(--sklearn-color-fitted-level-2);\n",
              "}\n",
              "\n",
              "#sk-container-id-1 div.sk-label label.sk-toggleable__label,\n",
              "#sk-container-id-1 div.sk-label label {\n",
              "  /* The background is the default theme color */\n",
              "  color: var(--sklearn-color-text-on-default-background);\n",
              "}\n",
              "\n",
              "/* On hover, darken the color of the background */\n",
              "#sk-container-id-1 div.sk-label:hover label.sk-toggleable__label {\n",
              "  color: var(--sklearn-color-text);\n",
              "  background-color: var(--sklearn-color-unfitted-level-2);\n",
              "}\n",
              "\n",
              "/* Label box, darken color on hover, fitted */\n",
              "#sk-container-id-1 div.sk-label.fitted:hover label.sk-toggleable__label.fitted {\n",
              "  color: var(--sklearn-color-text);\n",
              "  background-color: var(--sklearn-color-fitted-level-2);\n",
              "}\n",
              "\n",
              "/* Estimator label */\n",
              "\n",
              "#sk-container-id-1 div.sk-label label {\n",
              "  font-family: monospace;\n",
              "  font-weight: bold;\n",
              "  display: inline-block;\n",
              "  line-height: 1.2em;\n",
              "}\n",
              "\n",
              "#sk-container-id-1 div.sk-label-container {\n",
              "  text-align: center;\n",
              "}\n",
              "\n",
              "/* Estimator-specific */\n",
              "#sk-container-id-1 div.sk-estimator {\n",
              "  font-family: monospace;\n",
              "  border: 1px dotted var(--sklearn-color-border-box);\n",
              "  border-radius: 0.25em;\n",
              "  box-sizing: border-box;\n",
              "  margin-bottom: 0.5em;\n",
              "  /* unfitted */\n",
              "  background-color: var(--sklearn-color-unfitted-level-0);\n",
              "}\n",
              "\n",
              "#sk-container-id-1 div.sk-estimator.fitted {\n",
              "  /* fitted */\n",
              "  background-color: var(--sklearn-color-fitted-level-0);\n",
              "}\n",
              "\n",
              "/* on hover */\n",
              "#sk-container-id-1 div.sk-estimator:hover {\n",
              "  /* unfitted */\n",
              "  background-color: var(--sklearn-color-unfitted-level-2);\n",
              "}\n",
              "\n",
              "#sk-container-id-1 div.sk-estimator.fitted:hover {\n",
              "  /* fitted */\n",
              "  background-color: var(--sklearn-color-fitted-level-2);\n",
              "}\n",
              "\n",
              "/* Specification for estimator info (e.g. \"i\" and \"?\") */\n",
              "\n",
              "/* Common style for \"i\" and \"?\" */\n",
              "\n",
              ".sk-estimator-doc-link,\n",
              "a:link.sk-estimator-doc-link,\n",
              "a:visited.sk-estimator-doc-link {\n",
              "  float: right;\n",
              "  font-size: smaller;\n",
              "  line-height: 1em;\n",
              "  font-family: monospace;\n",
              "  background-color: var(--sklearn-color-background);\n",
              "  border-radius: 1em;\n",
              "  height: 1em;\n",
              "  width: 1em;\n",
              "  text-decoration: none !important;\n",
              "  margin-left: 0.5em;\n",
              "  text-align: center;\n",
              "  /* unfitted */\n",
              "  border: var(--sklearn-color-unfitted-level-1) 1pt solid;\n",
              "  color: var(--sklearn-color-unfitted-level-1);\n",
              "}\n",
              "\n",
              ".sk-estimator-doc-link.fitted,\n",
              "a:link.sk-estimator-doc-link.fitted,\n",
              "a:visited.sk-estimator-doc-link.fitted {\n",
              "  /* fitted */\n",
              "  border: var(--sklearn-color-fitted-level-1) 1pt solid;\n",
              "  color: var(--sklearn-color-fitted-level-1);\n",
              "}\n",
              "\n",
              "/* On hover */\n",
              "div.sk-estimator:hover .sk-estimator-doc-link:hover,\n",
              ".sk-estimator-doc-link:hover,\n",
              "div.sk-label-container:hover .sk-estimator-doc-link:hover,\n",
              ".sk-estimator-doc-link:hover {\n",
              "  /* unfitted */\n",
              "  background-color: var(--sklearn-color-unfitted-level-3);\n",
              "  color: var(--sklearn-color-background);\n",
              "  text-decoration: none;\n",
              "}\n",
              "\n",
              "div.sk-estimator.fitted:hover .sk-estimator-doc-link.fitted:hover,\n",
              ".sk-estimator-doc-link.fitted:hover,\n",
              "div.sk-label-container:hover .sk-estimator-doc-link.fitted:hover,\n",
              ".sk-estimator-doc-link.fitted:hover {\n",
              "  /* fitted */\n",
              "  background-color: var(--sklearn-color-fitted-level-3);\n",
              "  color: var(--sklearn-color-background);\n",
              "  text-decoration: none;\n",
              "}\n",
              "\n",
              "/* Span, style for the box shown on hovering the info icon */\n",
              ".sk-estimator-doc-link span {\n",
              "  display: none;\n",
              "  z-index: 9999;\n",
              "  position: relative;\n",
              "  font-weight: normal;\n",
              "  right: .2ex;\n",
              "  padding: .5ex;\n",
              "  margin: .5ex;\n",
              "  width: min-content;\n",
              "  min-width: 20ex;\n",
              "  max-width: 50ex;\n",
              "  color: var(--sklearn-color-text);\n",
              "  box-shadow: 2pt 2pt 4pt #999;\n",
              "  /* unfitted */\n",
              "  background: var(--sklearn-color-unfitted-level-0);\n",
              "  border: .5pt solid var(--sklearn-color-unfitted-level-3);\n",
              "}\n",
              "\n",
              ".sk-estimator-doc-link.fitted span {\n",
              "  /* fitted */\n",
              "  background: var(--sklearn-color-fitted-level-0);\n",
              "  border: var(--sklearn-color-fitted-level-3);\n",
              "}\n",
              "\n",
              ".sk-estimator-doc-link:hover span {\n",
              "  display: block;\n",
              "}\n",
              "\n",
              "/* \"?\"-specific style due to the `<a>` HTML tag */\n",
              "\n",
              "#sk-container-id-1 a.estimator_doc_link {\n",
              "  float: right;\n",
              "  font-size: 1rem;\n",
              "  line-height: 1em;\n",
              "  font-family: monospace;\n",
              "  background-color: var(--sklearn-color-background);\n",
              "  border-radius: 1rem;\n",
              "  height: 1rem;\n",
              "  width: 1rem;\n",
              "  text-decoration: none;\n",
              "  /* unfitted */\n",
              "  color: var(--sklearn-color-unfitted-level-1);\n",
              "  border: var(--sklearn-color-unfitted-level-1) 1pt solid;\n",
              "}\n",
              "\n",
              "#sk-container-id-1 a.estimator_doc_link.fitted {\n",
              "  /* fitted */\n",
              "  border: var(--sklearn-color-fitted-level-1) 1pt solid;\n",
              "  color: var(--sklearn-color-fitted-level-1);\n",
              "}\n",
              "\n",
              "/* On hover */\n",
              "#sk-container-id-1 a.estimator_doc_link:hover {\n",
              "  /* unfitted */\n",
              "  background-color: var(--sklearn-color-unfitted-level-3);\n",
              "  color: var(--sklearn-color-background);\n",
              "  text-decoration: none;\n",
              "}\n",
              "\n",
              "#sk-container-id-1 a.estimator_doc_link.fitted:hover {\n",
              "  /* fitted */\n",
              "  background-color: var(--sklearn-color-fitted-level-3);\n",
              "}\n",
              "</style><div id=\"sk-container-id-1\" class=\"sk-top-container\"><div class=\"sk-text-repr-fallback\"><pre>LogisticRegression(solver=&#x27;liblinear&#x27;)</pre><b>In a Jupyter environment, please rerun this cell to show the HTML representation or trust the notebook. <br />On GitHub, the HTML representation is unable to render, please try loading this page with nbviewer.org.</b></div><div class=\"sk-container\" hidden><div class=\"sk-item\"><div class=\"sk-estimator fitted sk-toggleable\"><input class=\"sk-toggleable__control sk-hidden--visually\" id=\"sk-estimator-id-1\" type=\"checkbox\" checked><label for=\"sk-estimator-id-1\" class=\"sk-toggleable__label fitted sk-toggleable__label-arrow\"><div><div>LogisticRegression</div></div><div><a class=\"sk-estimator-doc-link fitted\" rel=\"noreferrer\" target=\"_blank\" href=\"https://scikit-learn.org/1.6/modules/generated/sklearn.linear_model.LogisticRegression.html\">?<span>Documentation for LogisticRegression</span></a><span class=\"sk-estimator-doc-link fitted\">i<span>Fitted</span></span></div></label><div class=\"sk-toggleable__content fitted\"><pre>LogisticRegression(solver=&#x27;liblinear&#x27;)</pre></div> </div></div></div></div>"
            ]
          },
          "metadata": {},
          "execution_count": 4
        }
      ]
    },
    {
      "cell_type": "markdown",
      "source": [
        "## 63. 予測"
      ],
      "metadata": {
        "id": "bYHuYBbOzlas"
      }
    },
    {
      "cell_type": "code",
      "source": [
        "first_X_dev = vec.transform(dev_dict[0]['feature'])\n",
        "predict = logistic.predict(first_X_dev)[0]\n",
        "print('予測結果 =', predict, ', 正解 =', dev_dict[0]['label'])\n",
        "\n",
        "# fit, transform, fit_transformの違い https://mathwords.net/fittransform#google_vignette"
      ],
      "metadata": {
        "id": "YlJAKJ9WzlJ-",
        "colab": {
          "base_uri": "https://localhost:8080/"
        },
        "outputId": "88143f12-ab78-47c7-e5c0-257711bcaf1d"
      },
      "execution_count": 5,
      "outputs": [
        {
          "output_type": "stream",
          "name": "stdout",
          "text": [
            "予測結果 = 1 , 正解 = 1\n"
          ]
        }
      ]
    },
    {
      "cell_type": "markdown",
      "source": [
        "## 64. 条件付き確率"
      ],
      "metadata": {
        "id": "E43TtpL8zotb"
      }
    },
    {
      "cell_type": "code",
      "source": [
        "probs = logistic.predict_proba(first_X_dev)[0]\n",
        "print(probs)\n",
        "\n",
        "# 条件付確率の出力  https://qiita.com/0NE_shoT_/items/c42d8093e2fed9bf1b7a"
      ],
      "metadata": {
        "id": "EJ4wVVhYzqPe",
        "colab": {
          "base_uri": "https://localhost:8080/"
        },
        "outputId": "ddbc440f-d8a9-44f7-9939-11284e1f0b13"
      },
      "execution_count": 6,
      "outputs": [
        {
          "output_type": "stream",
          "name": "stdout",
          "text": [
            "[0.00419195 0.99580805]\n"
          ]
        }
      ]
    },
    {
      "cell_type": "markdown",
      "source": [
        "## 65. テキストのポジネガの予測"
      ],
      "metadata": {
        "id": "S6tugLrHzsAX"
      }
    },
    {
      "cell_type": "code",
      "source": [
        "text = \"the worst movie I 've ever seen\"\n",
        "text_dict = dict(collections.Counter(text.split()))\n",
        "text_vec = vec.transform(text_dict)\n",
        "\n",
        "predict = logistic.predict(text_vec)[0]\n",
        "print('予測結果 =', predict)"
      ],
      "metadata": {
        "id": "RUbyZXqVzt6L",
        "colab": {
          "base_uri": "https://localhost:8080/"
        },
        "outputId": "61b5b6f8-8935-4cd2-8e1b-d66db856885c"
      },
      "execution_count": 7,
      "outputs": [
        {
          "output_type": "stream",
          "name": "stdout",
          "text": [
            "予測結果 = 0\n"
          ]
        }
      ]
    },
    {
      "cell_type": "markdown",
      "source": [
        "## 66. 混同行列の作成"
      ],
      "metadata": {
        "id": "4dm4YaFQzuK1"
      }
    },
    {
      "cell_type": "code",
      "source": [
        "from sklearn import metrics\n",
        "\n",
        "X_dev_feature = [data['feature'] for data in dev_dict]\n",
        "X_dev = vec.transform(X_dev_feature)\n",
        "Y_dev = [data['label'] for data in dev_dict]\n",
        "\n",
        "dev_predict = logistic.predict(X_dev)\n",
        "print(metrics.confusion_matrix(Y_dev, dev_predict))\n",
        "\n",
        "# 混同行列  https://qiita.com/monda00/items/a2ee8e0da51953c24da8"
      ],
      "metadata": {
        "id": "SDOOnsfgzvgT",
        "colab": {
          "base_uri": "https://localhost:8080/"
        },
        "outputId": "1e127727-9f31-4a8a-e3e2-16b69c241928"
      },
      "execution_count": 8,
      "outputs": [
        {
          "output_type": "stream",
          "name": "stdout",
          "text": [
            "[[334  94]\n",
            " [ 71 373]]\n"
          ]
        }
      ]
    },
    {
      "cell_type": "markdown",
      "source": [
        "## 67. 精度の計測"
      ],
      "metadata": {
        "id": "Nax0X0UEzvwN"
      }
    },
    {
      "cell_type": "code",
      "source": [
        "def measure(true, pred):\n",
        "  accuracy = metrics.accuracy_score(true, pred)\n",
        "  precision = metrics.precision_score(true, pred)\n",
        "  recall = metrics.recall_score(true, pred)\n",
        "  f1 = metrics.f1_score(true, pred)\n",
        "  print(f\"Accuracy: {accuracy:.4f}\")\n",
        "  print(f\"Precision: {precision:.4f}\")\n",
        "  print(f\"Recall: {recall:.4f}\")\n",
        "  print(f\"F1-score: {f1:.4f}\")\n",
        "\n",
        "Y_train = [int(y) for y in Y_train]\n",
        "Y_dev = [int(y) for y in Y_dev]\n",
        "train_predict = [int(p) for p in logistic.predict(X_train)]\n",
        "dev_predict = [int(p) for p in logistic.predict(X_dev)]\n",
        "\n",
        "print('学習データ：')\n",
        "measure(Y_train, train_predict)\n",
        "print('')\n",
        "\n",
        "print('検証データ：')\n",
        "measure(Y_dev, dev_predict)"
      ],
      "metadata": {
        "id": "_ibUTY2Xzy9V",
        "colab": {
          "base_uri": "https://localhost:8080/"
        },
        "outputId": "a625ea2d-162b-43ee-926a-e1e8ffabec2c"
      },
      "execution_count": 9,
      "outputs": [
        {
          "output_type": "stream",
          "name": "stdout",
          "text": [
            "学習データ：\n",
            "Accuracy: 0.9428\n",
            "Precision: 0.9435\n",
            "Recall: 0.9547\n",
            "F1-score: 0.9491\n",
            "\n",
            "検証データ：\n",
            "Accuracy: 0.8108\n",
            "Precision: 0.7987\n",
            "Recall: 0.8401\n",
            "F1-score: 0.8189\n"
          ]
        }
      ]
    },
    {
      "cell_type": "markdown",
      "source": [
        "## 68. 特徴量の重みの確認"
      ],
      "metadata": {
        "id": "AHi6GQTEzzhA"
      }
    },
    {
      "cell_type": "code",
      "source": [
        "import pandas as pd\n",
        "\n",
        "df = pd.DataFrame({'feature': vec.get_feature_names_out(), 'weight': logistic.coef_[0]})\n",
        "print('降順：\\n', df.sort_values('weight')[-20:])\n",
        "print('')\n",
        "print('昇順：\\n', df.sort_values('weight')[:20])\n",
        "\n",
        "# dfをソート      https://note.nkmk.me/python-pandas-sort-values-sort-index/#sort_values\n",
        "# dfの先頭を返す  https://note.nkmk.me/python-pandas-head-tail/"
      ],
      "metadata": {
        "id": "AzqUEVVwz06F",
        "colab": {
          "base_uri": "https://localhost:8080/"
        },
        "outputId": "a0d783cd-fc2f-4a12-da64-1b320525fc75"
      },
      "execution_count": 10,
      "outputs": [
        {
          "output_type": "stream",
          "name": "stdout",
          "text": [
            "降順：\n",
            "            feature    weight\n",
            "6901    intriguing  2.557987\n",
            "4802   fascinating  2.587183\n",
            "5877      half-bad  2.587456\n",
            "6574    impressive  2.615727\n",
            "2181      charming  2.636098\n",
            "12089        solid  2.637734\n",
            "7627       likable  2.705685\n",
            "14212      vividly  2.723359\n",
            "2180       charmer  2.781315\n",
            "4321     enjoyable  2.829664\n",
            "788      appealing  2.863963\n",
            "13492        treat  2.879891\n",
            "13103     terrific  2.923951\n",
            "10145        prose  2.932516\n",
            "14622    wonderful  2.995053\n",
            "1263     beautiful  3.008291\n",
            "6169     hilarious  3.191606\n",
            "9915      powerful  3.254749\n",
            "10675   remarkable  3.473988\n",
            "10593   refreshing  3.479837\n",
            "\n",
            "昇順：\n",
            "              feature    weight\n",
            "7365         lacking -4.357444\n",
            "7367           lacks -4.088263\n",
            "14674          worst -4.019129\n",
            "3543          devoid -3.706376\n",
            "8216            mess -3.698030\n",
            "4729         failure -3.643959\n",
            "12618         stupid -3.373302\n",
            "1615            bore -3.302295\n",
            "5021            flat -3.229071\n",
            "3456      depressing -3.217432\n",
            "7780           loses -3.216710\n",
            "14322          waste -3.193127\n",
            "7361            lack -3.078811\n",
            "12321      squanders -3.050587\n",
            "8844            none -3.024106\n",
            "5973          hardly -3.019194\n",
            "7793           lousy -3.014061\n",
            "9829            poor -3.013403\n",
            "9789       pointless -3.006266\n",
            "13856  unfortunately -2.968855\n"
          ]
        }
      ]
    },
    {
      "cell_type": "markdown",
      "source": [
        "## 69. 正則化パラメータの変更"
      ],
      "metadata": {
        "id": "YF2ebW2Jz1hD"
      }
    },
    {
      "cell_type": "code",
      "source": [
        "import matplotlib.pyplot as plt\n",
        "\n",
        "C_list = [10 ** i for i in range(-5, 6)]\n",
        "accuracy_list = []\n",
        "\n",
        "# 正則化パラメータの変更\n",
        "for C in C_list:\n",
        "  model = LogisticRegression(C=C, solver='liblinear')\n",
        "  model.fit(X_train, Y_train)\n",
        "  predict = model.predict(X_dev)\n",
        "  accuracy = metrics.accuracy_score(Y_dev, predict)\n",
        "  accuracy_list.append(accuracy)\n",
        "\n",
        "# 描画\n",
        "plt.figure(figsize=(5, 4))\n",
        "plt.plot(C_list, accuracy_list, marker='o')\n",
        "plt.xscale('log')\n",
        "plt.xlabel('Regularization')\n",
        "plt.ylabel('Accuracy')\n",
        "plt.grid(True)\n",
        "plt.show()"
      ],
      "metadata": {
        "id": "28xFioT0z20V",
        "colab": {
          "base_uri": "https://localhost:8080/",
          "height": 447
        },
        "outputId": "e0dac315-6d6e-4ca8-d9e4-74d4cc6c7456"
      },
      "execution_count": 11,
      "outputs": [
        {
          "output_type": "stream",
          "name": "stderr",
          "text": [
            "/usr/local/lib/python3.11/dist-packages/sklearn/svm/_base.py:1249: ConvergenceWarning: Liblinear failed to converge, increase the number of iterations.\n",
            "  warnings.warn(\n"
          ]
        },
        {
          "output_type": "display_data",
          "data": {
            "text/plain": [
              "<Figure size 500x400 with 1 Axes>"
            ],
            "image/png": "[encoded data removed]"
          },
          "metadata": {}
        }
      ]
    }
  ]
}