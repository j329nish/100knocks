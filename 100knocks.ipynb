{
 "cells": [
  {
   "cell_type": "markdown",
   "metadata": {
    "id": "zq4zw4iTg4jA"
   },
   "source": [
    "# 第1章: 準備運動"
   ]
  },
  {
   "cell_type": "code",
   "execution_count": 79,
   "metadata": {
    "colab": {
     "base_uri": "https://localhost:8080/"
    },
    "id": "oEeXoBgKfhk8",
    "outputId": "dbebb00f-d628-4659-e8fa-81d0d11b249f"
   },
   "outputs": [
    {
     "name": "stdout",
     "output_type": "stream",
     "text": [
      "desserts\n"
     ]
    }
   ],
   "source": [
    "## 00. 文字列の逆順\n",
    "\n",
    "sentence = 'stressed'\n",
    "answer = sentence[::-1]\n",
    "print(answer)\n",
    "\n",
    "# スライス操作 https://hibiki-press.tech/python/slice/1"
   ]
  },
  {
   "cell_type": "code",
   "execution_count": 80,
   "metadata": {
    "colab": {
     "base_uri": "https://localhost:8080/"
    },
    "id": "9HObO2d4hECx",
    "outputId": "79a9623c-51f9-45bd-bd82-99c8e4c6f26d"
   },
   "outputs": [
    {
     "name": "stdout",
     "output_type": "stream",
     "text": [
      "パトカー\n"
     ]
    }
   ],
   "source": [
    "## 01. 「パタトクカシーー」\n",
    "\n",
    "sentence = 'パタトクカシーー'\n",
    "answer = sentence[::2]\n",
    "print(answer)"
   ]
  },
  {
   "cell_type": "code",
   "execution_count": 81,
   "metadata": {
    "colab": {
     "base_uri": "https://localhost:8080/"
    },
    "id": "qNzviSKqhET-",
    "outputId": "7696e4c1-cb7b-4d88-e444-ab28918de26d"
   },
   "outputs": [
    {
     "name": "stdout",
     "output_type": "stream",
     "text": [
      "パタトクカシーー\n"
     ]
    }
   ],
   "source": [
    "## 02. 「パトカー」＋「タクシー」＝「パタトクカシーー」\n",
    "\n",
    "a = 'パトカー'\n",
    "b = 'タクシー'\n",
    "answer = ''\n",
    "\n",
    "for i in range(len(a)):\n",
    "  answer += a[i] + b[i]\n",
    "print(answer)"
   ]
  },
  {
   "cell_type": "code",
   "execution_count": null,
   "metadata": {
    "colab": {
     "base_uri": "https://localhost:8080/"
    },
    "id": "bECsYNFkhFaD",
    "outputId": "65d3a7d1-58fd-4a11-d498-225bd0ad3166"
   },
   "outputs": [
    {
     "ename": "",
     "evalue": "",
     "output_type": "error",
     "traceback": [
      "\u001b[1;31m'anaconda3 (Python 3.9.13)' でセルを実行するには、 ipykernel パッケージが必要です。\n",
      "\u001b[1;31m次のコマンドを実行して、'ipykernel' を Python 環境にインストールします。\n",
      "\u001b[1;31mコマンド: 'conda install -p c:\\Users\\nishida shoto\\anaconda3 ipykernel --update-deps --force-reinstall'"
     ]
    }
   ],
   "source": [
    "## 03. 円周率\n",
    "\n",
    "import re\n",
    "\n",
    "sentence = 'Now I need a drink, alcoholic of course, after the heavy lectures involving quantum mechanics.'\n",
    "split_sentence = re.sub(r'[,.]', '', sentence).split()\n",
    "answer = [len(split_sentence[i]) for i in range(len(split_sentence))]\n",
    "print(answer)\n",
    "\n",
    "# 置き換え   https://note.nkmk.me/python-str-remove-strip/#replace\n",
    "# 正規表現   https://qiita.com/List202/items/05a27c46d9b11d04fb39\n",
    "# スプリット https://note.nkmk.me/python-split-rsplit-splitlines-re/#sep"
   ]
  },
  {
   "cell_type": "code",
   "execution_count": 83,
   "metadata": {
    "colab": {
     "base_uri": "https://localhost:8080/"
    },
    "id": "jYcNFq5FhFou",
    "outputId": "6f99f16c-f483-41a5-f466-8badb1c6189a"
   },
   "outputs": [
    {
     "name": "stdout",
     "output_type": "stream",
     "text": [
      "[{'name': 'Hi', 'idx': 1}, {'name': 'H', 'idx': 2}, {'name': 'Li', 'idx': 3}, {'name': 'Be', 'idx': 4}, {'name': 'Bo', 'idx': 5}, {'name': 'C', 'idx': 6}, {'name': 'N', 'idx': 7}, {'name': 'O', 'idx': 8}, {'name': 'F', 'idx': 9}, {'name': 'N', 'idx': 10}, {'name': 'Na', 'idx': 11}, {'name': 'Mi', 'idx': 12}, {'name': 'Al', 'idx': 13}, {'name': 'Si', 'idx': 14}, {'name': 'Pe', 'idx': 15}, {'name': 'S', 'idx': 16}, {'name': 'C', 'idx': 17}, {'name': 'Ar', 'idx': 18}, {'name': 'Ki', 'idx': 19}, {'name': 'C', 'idx': 20}]\n"
     ]
    }
   ],
   "source": [
    "## 04. 元素記号\n",
    "\n",
    "sentence = 'Hi He Lied Because Boron Could Not Oxidize Fluorine. New Nations Might Also Sign Peace Security Clause. Arthur King Can.'\n",
    "one_idx = [1, 5, 6, 7, 8, 9, 15, 16, 19]\n",
    "split_sentence = sentence.split()\n",
    "answer = []\n",
    "\n",
    "for i in range(len(split_sentence)):\n",
    "  if (i in one_idx):\n",
    "    answer.append({'name': split_sentence[i][:1], 'idx': i + 1})\n",
    "  else:\n",
    "    answer.append({'name': split_sentence[i][:2], 'idx': i + 1})\n",
    "\n",
    "print(answer)\n",
    "\n",
    "# 辞書&要素を含むか判定 https://www.javadrive.jp/python/list/index10.html#section1"
   ]
  },
  {
   "cell_type": "code",
   "execution_count": 84,
   "metadata": {
    "colab": {
     "base_uri": "https://localhost:8080/"
    },
    "id": "s4nZUXa5hF3N",
    "outputId": "98c2d08f-fb2b-4ab8-a2d6-f660d29a0cf3"
   },
   "outputs": [
    {
     "name": "stdout",
     "output_type": "stream",
     "text": [
      "['I ', ' a', 'am', 'm ', ' a', 'an', 'n ', ' N', 'NL', 'LP', 'Pe', 'er']\n",
      "[['I', 'am'], ['am', 'an'], ['an', 'NLPer']]\n"
     ]
    }
   ],
   "source": [
    "## 05. n-gram\n",
    "\n",
    "sentence = 'I am an NLPer'\n",
    "split_sentence = sentence.split()\n",
    "def n_gram(sentence, n):\n",
    "  return [sentence[idx:idx + n] for idx in range(len(sentence) - n + 1)]\n",
    "\n",
    "answer1 = n_gram(sentence, 2)\n",
    "answer2 = n_gram(split_sentence, 2)\n",
    "print(answer1)\n",
    "print(answer2)\n",
    "\n",
    "# n-gramとは https://qiita.com/kazmaw/items/4df328cba6429ec210fb"
   ]
  },
  {
   "cell_type": "code",
   "execution_count": 85,
   "metadata": {
    "colab": {
     "base_uri": "https://localhost:8080/"
    },
    "id": "jV0vXUzNhGE5",
    "outputId": "e4590c7e-419a-41fc-84a8-d570f1cb568e"
   },
   "outputs": [
    {
     "name": "stdout",
     "output_type": "stream",
     "text": [
      "{'ap', 'ra', 'ad', 'pa', 'is', 'gr', 'di', 'se', 'ph', 'ar', 'ag'} \n",
      " {'ar', 'ap', 'ra', 'pa'} \n",
      " {'se', 'di', 'is', 'ad'}\n"
     ]
    }
   ],
   "source": [
    "## 06. 集合\n",
    "\n",
    "sentence1 = 'paraparaparadise'\n",
    "sentence2 = 'paragraph'\n",
    "x = set(n_gram(sentence1, 2))\n",
    "y = set(n_gram(sentence2, 2))\n",
    "\n",
    "union = x.union(y)\n",
    "intersection = x.intersection(y)\n",
    "difference = x.difference(y)\n",
    "print(union, '\\n', intersection, '\\n', difference)\n",
    "\n",
    "# 集合演算 https://jp-seemore.com/iot/python/9995/#toc11"
   ]
  },
  {
   "cell_type": "code",
   "execution_count": 86,
   "metadata": {
    "colab": {
     "base_uri": "https://localhost:8080/"
    },
    "id": "i8gka04ohGR9",
    "outputId": "9d1e9090-01c9-49a0-fd80-9aeb16e8beb0"
   },
   "outputs": [
    {
     "name": "stdout",
     "output_type": "stream",
     "text": [
      "12時の気温は22.4\n"
     ]
    }
   ],
   "source": [
    "## 07. テンプレートによる文生成\n",
    "\n",
    "x, y, z = 12, '気温', 22.4\n",
    "def temperature_text(x, y, z):\n",
    "  return str(x) + '時の' + str(y) + 'は' + str(z)\n",
    "\n",
    "answer = temperature_text(x, y, z)\n",
    "print(answer)"
   ]
  },
  {
   "cell_type": "code",
   "execution_count": 87,
   "metadata": {
    "colab": {
     "base_uri": "https://localhost:8080/"
    },
    "id": "UrEcnguLhGg8",
    "outputId": "39b99cba-3dce-4635-d9e7-944c2b5ac17f"
   },
   "outputs": [
    {
     "name": "stdout",
     "output_type": "stream",
     "text": [
      "['H', 'O', 'G', 'E', 's', 'l', 't', 'v']\n"
     ]
    }
   ],
   "source": [
    "## 08. 暗号文\n",
    "\n",
    "sentence = 'HOGEhoge'\n",
    "def cipher(sentence):\n",
    "  return [chr(219 - ord(c)) if c.isalpha() and c.islower() else c for c in sentence]\n",
    "\n",
    "answer = cipher(sentence)\n",
    "print(answer)\n",
    "# 英小文字判定 https://hibiki-press.tech/python/isupper-islower/3728\n",
    "# 文字コード   https://qiita.com/ny7760/items/d9c247781a790210936d"
   ]
  },
  {
   "cell_type": "code",
   "execution_count": 88,
   "metadata": {
    "colab": {
     "base_uri": "https://localhost:8080/"
    },
    "id": "SA287eathGw9",
    "outputId": "e7ee6ff0-cd1f-4ca8-9227-20b0116ba29e"
   },
   "outputs": [
    {
     "name": "stdout",
     "output_type": "stream",
     "text": [
      "I culd'ont blvieee that I cuold alcluaty usnentrdad what I was rdenaig : the pneoanehml peowr of the hamun mind .\n"
     ]
    }
   ],
   "source": [
    "## 09. Typoglycemia\n",
    "import random\n",
    "\n",
    "sentence = \"I couldn't believe that I could actually understand what I was reading : the phenomenal power of the human mind .\"\n",
    "split_sentence = sentence.split()\n",
    "for i in range(len(split_sentence)):\n",
    "  word = split_sentence[i]\n",
    "  if (len(word) > 4):\n",
    "    middle_word = list(word[1:-1])\n",
    "    random.shuffle(middle_word)\n",
    "    split_sentence[i] = word[0] + ''.join(middle_word) + word[-1]\n",
    "\n",
    "answer = ' '.join(split_sentence)\n",
    "print(answer)\n",
    "\n",
    "# 並べ替え     https://pawalog.com/python/ramdom-shuffle#\n",
    "# 文字列の結合 https://note.nkmk.me/python-string-concat/"
   ]
  }
 ],
 "metadata": {
  "colab": {
   "provenance": []
  },
  "kernelspec": {
   "display_name": "Python 3",
   "name": "python3"
  },
  "language_info": {
   "name": "python",
   "version": "3.9.13"
  }
 },
 "nbformat": 4,
 "nbformat_minor": 0
}
