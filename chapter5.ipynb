{
  "nbformat": 4,
  "nbformat_minor": 0,
  "metadata": {
    "colab": {
      "provenance": [],
      "collapsed_sections": [
        "wkoKRZfGCskV",
        "TMmLByxsgrD2",
        "q9AkYO-_xJVT",
        "_imVfAPKDCyK",
        "YEiaDLmeNud5"
      ]
    },
    "kernelspec": {
      "name": "python3",
      "display_name": "Python 3"
    },
    "language_info": {
      "name": "python"
    }
  },
  "cells": [
    {
      "cell_type": "markdown",
      "source": [
        "# 第5章: 大規模言語モデル"
      ],
      "metadata": {
        "id": "XdSRxgxSCpLP"
      }
    },
    {
      "cell_type": "markdown",
      "source": [
        "## 40. Zero-Shot推論"
      ],
      "metadata": {
        "id": "wkoKRZfGCskV"
      }
    },
    {
      "cell_type": "code",
      "execution_count": 1,
      "metadata": {
        "id": "KIFIRTjCChoZ",
        "colab": {
          "base_uri": "https://localhost:8080/"
        },
        "outputId": "a1d99f6d-2842-41f6-f0af-cdadc1e5471a"
      },
      "outputs": [
        {
          "output_type": "stream",
          "name": "stdout",
          "text": [
            "\u001b[?25l   \u001b[90m━━━━━━━━━━━━━━━━━━━━━━━━━━━━━━━━━━━━━━━━\u001b[0m \u001b[32m0.0/155.4 kB\u001b[0m \u001b[31m?\u001b[0m eta \u001b[36m-:--:--\u001b[0m\r\u001b[2K   \u001b[91m━━━━━━━━━━━━━━━━━━━━━━━━━━━━━━━━━━━━━━━\u001b[0m\u001b[91m╸\u001b[0m \u001b[32m153.6/155.4 kB\u001b[0m \u001b[31m4.5 MB/s\u001b[0m eta \u001b[36m0:00:01\u001b[0m\r\u001b[2K   \u001b[90m━━━━━━━━━━━━━━━━━━━━━━━━━━━━━━━━━━━━━━━━\u001b[0m \u001b[32m155.4/155.4 kB\u001b[0m \u001b[31m2.5 MB/s\u001b[0m eta \u001b[36m0:00:00\u001b[0m\n",
            "\u001b[?25h"
          ]
        }
      ],
      "source": [
        "# Geminiのライブラリのインストール\n",
        "!pip install -q -U google-generativeai"
      ]
    },
    {
      "cell_type": "code",
      "source": [
        "# APIキーの読み込み\n",
        "from google.colab import userdata\n",
        "import google.generativeai as genai\n",
        "\n",
        "GEMINI_API_KEY = userdata.get(\"GEMINI_API_KEY\")\n",
        "genai.configure(api_key=GEMINI_API_KEY)"
      ],
      "metadata": {
        "id": "AhlmfymLfd5L"
      },
      "execution_count": 2,
      "outputs": []
    },
    {
      "cell_type": "code",
      "source": [
        "import pandas as pd\n",
        "\n",
        "model = genai.GenerativeModel(\"gemini-1.5-flash\")\n",
        "df = pd.read_csv(\"./data/llm-prompts.csv\", encoding=\"utf-8\")\n",
        "\n",
        "prompt = df.loc[df[\"id\"] == 401, \"question\"].values[0]\n",
        "response = model.generate_content(prompt)\n",
        "print(response.text)\n",
        "\n",
        "# Gemini_APIの使用  https://qiita.com/zukki2/items/10bfeb1c4330aa18ff87"
      ],
      "metadata": {
        "id": "U4BQc4Wgfs8C",
        "colab": {
          "base_uri": "https://localhost:8080/",
          "height": 228
        },
        "outputId": "ae52a745-a30b-4f68-e920-f9a3484e14a2"
      },
      "execution_count": 3,
      "outputs": [
        {
          "output_type": "stream",
          "name": "stdout",
          "text": [
            "正しい年代順は、イ→ウ→アです。\n",
            "\n",
            "* **イ 嵯峨天皇は，藤原冬嗣らを蔵人頭に任命した。**　嵯峨天皇の治世は809年から823年。藤原冬嗣は嵯峨天皇の時代に活躍した人物です。\n",
            "\n",
            "* **ウ 藤原良房は，承和の変後，藤原氏の中での北家の優位を確立した。** 承和の変は842年。良房はこの変の後、権力を掌握し北家の優位を確立しました。\n",
            "\n",
            "* **ア 藤原時平は，策謀を用いて菅原道真を政界から追放した。** 菅原道真の左遷は894年。藤原時平は、この事件の中心人物でした。\n",
            "\n",
            "\n",
            "よって、イ、ウ、ア の順になります。\n",
            "\n"
          ]
        }
      ]
    },
    {
      "cell_type": "markdown",
      "source": [
        "## 41. Few-Shot推論"
      ],
      "metadata": {
        "id": "TMmLByxsgrD2"
      }
    },
    {
      "cell_type": "code",
      "source": [
        "model = genai.GenerativeModel(\"gemini-1.5-flash\")\n",
        "df = pd.read_csv(\"./data/llm-prompts.csv\", encoding=\"utf-8\")\n",
        "few_shot_df = df[(df[\"id\"] >= 410) & (df[\"id\"] <= 414)]\n",
        "\n",
        "few_shot = \"\"\n",
        "for _, row in few_shot_df.iterrows():\n",
        "  few_shot += f\"question:{row['question']} answer:{row['answer']} \"\n",
        "question = f\"question:{df.loc[df['id'] == 401, 'question'].values[0]} answer:\"\n",
        "prompt = few_shot + question\n",
        "\n",
        "response = model.generate_content(prompt)\n",
        "print(response.text)"
      ],
      "metadata": {
        "id": "QaKK3oo34wsc",
        "colab": {
          "base_uri": "https://localhost:8080/",
          "height": 52
        },
        "outputId": "8fe76e6d-103a-45f5-81b1-c8b2bff2f610"
      },
      "execution_count": 4,
      "outputs": [
        {
          "output_type": "stream",
          "name": "stdout",
          "text": [
            "解答: イ→ウ→ア\n",
            "\n"
          ]
        }
      ]
    },
    {
      "cell_type": "markdown",
      "source": [
        "## 42. 多肢選択問題の正解率"
      ],
      "metadata": {
        "id": "WnL-iALExC--"
      }
    },
    {
      "cell_type": "code",
      "source": [
        "import time\n",
        "\n",
        "model = genai.GenerativeModel(\"gemini-1.5-flash\")\n",
        "df = pd.read_csv(\"./data/business_ethics.csv\", encoding=\"utf-8-sig\")\n",
        "correct = df[\"answer\"].tolist()\n",
        "answer = []\n",
        "\n",
        "for _, row in df.iterrows():\n",
        "  prompt = (\n",
        "    f\"question:{row['question']}A:{row['A']}B:{row['B']}C:{row['C']}D:{row['D']}\"\n",
        "    \"A, B, C, Dの記号を選択して、いずれかの記号のみを出力してください。記号でない出力は扱えません。\"\n",
        "  )\n",
        "  while(1):\n",
        "    response = model.generate_content(prompt)\n",
        "    resp_text = response.text.strip()\n",
        "    if (resp_text in [\"A\", \"B\", \"C\", \"D\"]):\n",
        "      answer.append(resp_text)\n",
        "      break\n",
        "    else:\n",
        "      time.sleep(4)\n",
        "      print(response.text)\n",
        "  time.sleep(4) # 1分に15回のリクエスト制限\n",
        "\n",
        "df[\"prediction\"] = answer\n",
        "accuracy = (df[\"prediction\"] == df[\"answer\"]).mean()\n",
        "print(f\"{accuracy * 100:.2f}%\")\n",
        "\n",
        "# sleep関数 https://qiita.com/shi_ei/items/2a88ba1796a4f8f7ad0a"
      ],
      "metadata": {
        "colab": {
          "base_uri": "https://localhost:8080/",
          "height": 34
        },
        "id": "ieaQ5lSmH_F7",
        "outputId": "9b5cfa58-dabf-474e-aee5-eece1e64beb1"
      },
      "execution_count": 5,
      "outputs": [
        {
          "output_type": "stream",
          "name": "stdout",
          "text": [
            "75.29%\n"
          ]
        }
      ]
    },
    {
      "cell_type": "markdown",
      "source": [
        "## 43. 応答のバイアス"
      ],
      "metadata": {
        "id": "t5Ppleg5xGjF"
      }
    },
    {
      "cell_type": "code",
      "source": [
        "model = genai.GenerativeModel(\"gemini-1.5-flash\")\n",
        "df = pd.read_csv(\"./data/business_ethics.csv\", encoding=\"utf-8-sig\")\n",
        "correct = df[\"answer\"].tolist()\n",
        "answer = []\n",
        "\n",
        "for _, row in df.iterrows():\n",
        "  # プロンプトの一部をエストニア語（母語話者が少ない）に変更\n",
        "  prompt = (\n",
        "    f\"küsimus:{row['question']}A:{row['A']}B:{row['B']}C:{row['C']}D:{row['D']}\"\n",
        "    \"Valige sümbol A, B, C või D ja väljundige ainult üks sümbol.Mitte-sümbolite väljundit ei saa käsitleda.\"\n",
        "  )\n",
        "  while(1):\n",
        "    response = model.generate_content(prompt)\n",
        "    resp_text = response.text.strip()\n",
        "    if (resp_text in [\"A\", \"B\", \"C\", \"D\"]):\n",
        "      answer.append(resp_text)\n",
        "      break\n",
        "    else:\n",
        "      time.sleep(4)\n",
        "  time.sleep(4) # 1分に15回のリクエスト制限\n",
        "\n",
        "df[\"prediction\"] = answer\n",
        "accuracy = (df[\"prediction\"] == df[\"answer\"]).mean()\n",
        "print(f\"{accuracy * 100:.2f}%\")"
      ],
      "metadata": {
        "id": "EnpYk7OnxIQh",
        "colab": {
          "base_uri": "https://localhost:8080/",
          "height": 34
        },
        "outputId": "8e05efac-4557-400e-818d-3a00897d133d"
      },
      "execution_count": 6,
      "outputs": [
        {
          "output_type": "stream",
          "name": "stdout",
          "text": [
            "71.76%\n"
          ]
        }
      ]
    },
    {
      "cell_type": "markdown",
      "source": [
        "## 44. 対話"
      ],
      "metadata": {
        "id": "q9AkYO-_xJVT"
      }
    },
    {
      "cell_type": "code",
      "source": [
        "model = genai.GenerativeModel(\"gemini-1.5-flash\")\n",
        "df = pd.read_csv(\"./data/llm-prompts.csv\", encoding=\"utf-8\")\n",
        "\n",
        "prompt = df.loc[df[\"id\"] == 441, \"question\"].values[0]\n",
        "chat = model.start_chat(history=[])\n",
        "response = chat.send_message(prompt)\n",
        "print(response.text)"
      ],
      "metadata": {
        "id": "ztIcY-cdxKuo",
        "colab": {
          "base_uri": "https://localhost:8080/",
          "height": 0
        },
        "outputId": "e60d9bdc-3417-47a1-9935-857c56905ba2"
      },
      "execution_count": 7,
      "outputs": [
        {
          "output_type": "stream",
          "name": "stdout",
          "text": [
            "つばめちゃんが間違って乗った急行は、自由が丘から大井町方面へ向かっています。東急大井町線の急行は、自由が丘の次は九品仏駅に停車します。そこで降りて反対方向の電車で一駅戻ると、**自由が丘駅**が目的地になります。\n",
            "\n"
          ]
        }
      ]
    },
    {
      "cell_type": "markdown",
      "source": [
        "## 45. マルチターン対話"
      ],
      "metadata": {
        "id": "_imVfAPKDCyK"
      }
    },
    {
      "cell_type": "code",
      "source": [
        "model = genai.GenerativeModel(\"gemini-1.5-flash\")\n",
        "df = pd.read_csv(\"./data/llm-prompts.csv\", encoding=\"utf-8\")\n",
        "\n",
        "prompt1 = df.loc[df[\"id\"] == 441, \"question\"].values[0]\n",
        "prompt2 = df.loc[df[\"id\"] == 451, \"question\"].values[0]\n",
        "\n",
        "chat = model.start_chat(history=[])\n",
        "response = chat.send_message(prompt1)\n",
        "response = chat.send_message(prompt2)\n",
        "print(response.text)"
      ],
      "metadata": {
        "colab": {
          "base_uri": "https://localhost:8080/",
          "height": 245
        },
        "id": "m1mPbYzeDFjO",
        "outputId": "b0bc1a56-1820-4d0d-b519-bd815c66b28f"
      },
      "execution_count": 8,
      "outputs": [
        {
          "output_type": "stream",
          "name": "stdout",
          "text": [
            "東急大井町線で自由が丘駅から大井町方面と反対方向（渋谷方面）の急行に乗車した場合、次の急行停車駅は中目黒駅です。そこで降りて、反対方向（大井町方面）の各駅停車に乗車します。\n",
            "\n",
            "中目黒駅から各駅停車で大井町方面に向かう場合、自由が丘駅までは以下の駅を通過します。\n",
            "\n",
            "* 中目黒\n",
            "* 祐天寺\n",
            "* 学芸大学\n",
            "* 都立大学\n",
            "* 自由が丘\n",
            "\n",
            "したがって、自由が丘駅まで **5駅** 乗車する必要があります。\n",
            "\n"
          ]
        }
      ]
    },
    {
      "cell_type": "markdown",
      "source": [
        "## 46. 川柳の生成"
      ],
      "metadata": {
        "id": "FeRUHDF3DF-w"
      }
    },
    {
      "cell_type": "code",
      "source": [
        "model = genai.GenerativeModel(\"gemini-1.5-flash\")\n",
        "df = pd.read_csv(\"./data/llm-prompts.csv\", encoding=\"utf-8\")\n",
        "Senryu = []\n",
        "\n",
        "prompt = df.loc[df[\"id\"] == 461, \"question\"].values[0]\n",
        "for i in range(10):\n",
        "  chat = model.start_chat(history=[])\n",
        "  response = chat.send_message(prompt)\n",
        "  Senryu.append(response.text.strip())\n",
        "  time.sleep(4)\n",
        "\n",
        "for i in range(10):\n",
        "  print(Senryu[i])"
      ],
      "metadata": {
        "id": "UYR4F3YKDIxb",
        "colab": {
          "base_uri": "https://localhost:8080/",
          "height": 191
        },
        "outputId": "093199fe-dbbc-40c6-c1e7-acf3228a94be"
      },
      "execution_count": 10,
      "outputs": [
        {
          "output_type": "stream",
          "name": "stdout",
          "text": [
            "言葉解き　未来拓く　深き森\n",
            "言葉解き　未来拓く　深き森\n",
            "言葉解き　未来拓く　深き森\n",
            "言葉解き　未来拓く　深き森\n",
            "言葉解き　未来拓く　深き森\n",
            "言葉解き　未来拓く　深き森\n",
            "言葉解き　未来拓く　深き夢\n",
            "言葉解き　未来拓く　深き森\n",
            "言葉解き　未来拓く　深き森\n",
            "言葉解き　未来拓く　深き森\n"
          ]
        }
      ]
    },
    {
      "cell_type": "markdown",
      "source": [
        "## 47. LLMによる評価"
      ],
      "metadata": {
        "id": "CmpYJcNcNpG8"
      }
    },
    {
      "cell_type": "code",
      "source": [
        "model = genai.GenerativeModel(\"gemini-1.5-flash\")\n",
        "df = pd.read_csv(\"./data/llm-prompts.csv\", encoding=\"utf-8\")\n",
        "eval = []\n",
        "\n",
        "question = df.loc[df[\"id\"] == 471, \"question\"].values[0]\n",
        "for i in range(10):\n",
        "  prompt = question + Senryu[i]\n",
        "  response = model.generate_content(prompt)\n",
        "  eval.append(f\"{Senryu[i]}: {response.text.strip()}\")\n",
        "  time.sleep(4)\n",
        "\n",
        "for i in range(10):\n",
        "  print(eval[i])"
      ],
      "metadata": {
        "id": "nGq8aRw1Nrde",
        "colab": {
          "base_uri": "https://localhost:8080/",
          "height": 191
        },
        "outputId": "f5af8560-9b7f-4cfe-836e-772548d5d929"
      },
      "execution_count": 11,
      "outputs": [
        {
          "output_type": "stream",
          "name": "stdout",
          "text": [
            "言葉解き　未来拓く　深き森: 5/10点\n",
            "言葉解き　未来拓く　深き森: 5/10点\n",
            "言葉解き　未来拓く　深き森: 5/10点\n",
            "言葉解き　未来拓く　深き森: 6/10\n",
            "言葉解き　未来拓く　深き森: 6/10点\n",
            "言葉解き　未来拓く　深き森: 6/10点\n",
            "言葉解き　未来拓く　深き夢: 6/10点\n",
            "言葉解き　未来拓く　深き森: 5/10点\n",
            "言葉解き　未来拓く　深き森: 6/10点\n",
            "言葉解き　未来拓く　深き森: 5/10点\n"
          ]
        }
      ]
    },
    {
      "cell_type": "markdown",
      "source": [
        "## 48. LLMによる評価の頑健性"
      ],
      "metadata": {
        "id": "N5WldzBpNrws"
      }
    },
    {
      "cell_type": "code",
      "source": [
        "model = genai.GenerativeModel(\"gemini-1.5-flash\")\n",
        "df = pd.read_csv(\"./data/llm-prompts.csv\", encoding=\"utf-8\")\n",
        "eval = []\n",
        "\n",
        "question = df.loc[df[\"id\"] == 481, \"question\"].values[0]\n",
        "for i in range(10):\n",
        "  prompt = question + Senryu[i]\n",
        "  response = model.generate_content(prompt)\n",
        "  eval.append(f\"{Senryu[i]}: {response.text.strip()}\")\n",
        "  time.sleep(4)\n",
        "\n",
        "for i in range(10):\n",
        "  print(eval[i])"
      ],
      "metadata": {
        "id": "AAJLUeQqNt9Z",
        "colab": {
          "base_uri": "https://localhost:8080/",
          "height": 191
        },
        "outputId": "9b506692-2f40-4094-92c4-2e4c8d0fae45"
      },
      "execution_count": 12,
      "outputs": [
        {
          "output_type": "stream",
          "name": "stdout",
          "text": [
            "言葉解き　未来拓く　深き森: 10/10\n",
            "言葉解き　未来拓く　深き森: 10/10\n",
            "言葉解き　未来拓く　深き森: 10/10\n",
            "言葉解き　未来拓く　深き森: 10/10\n",
            "言葉解き　未来拓く　深き森: 10/10\n",
            "言葉解き　未来拓く　深き森: 10/10\n",
            "言葉解き　未来拓く　深き夢: 10/10\n",
            "言葉解き　未来拓く　深き森: 10/10\n",
            "言葉解き　未来拓く　深き森: 10/10\n",
            "言葉解き　未来拓く　深き森: 10/10\n"
          ]
        }
      ]
    },
    {
      "cell_type": "markdown",
      "source": [
        "## 49. トークン化"
      ],
      "metadata": {
        "id": "YEiaDLmeNud5"
      }
    },
    {
      "cell_type": "code",
      "source": [
        "import pandas as pd\n",
        "\n",
        "model = genai.GenerativeModel(\"gemini-1.5-flash\")\n",
        "df = pd.read_csv(\"./data/llm-prompts.csv\", encoding=\"utf-8\")\n",
        "\n",
        "text = df.loc[df[\"id\"] == 491, \"question\"].values[0]\n",
        "question = df.loc[df[\"id\"] == 492, \"question\"].values[0]\n",
        "prompt = (f\"文章:{text} 質問:{question}\")\n",
        "\n",
        "response = model.generate_content(prompt)\n",
        "print(response.text)"
      ],
      "metadata": {
        "id": "1PXEQ0uGNwRp",
        "colab": {
          "base_uri": "https://localhost:8080/",
          "height": 72
        },
        "outputId": "8a6de228-9fe5-4882-dc31-9b8326fed24b"
      },
      "execution_count": 13,
      "outputs": [
        {
          "output_type": "stream",
          "name": "stdout",
          "text": [
            "この文章のトークン数は、正確なカウント方法によって多少異なりますが、概ね**80～90トークン**程度です。  句読点をトークンと数えるか、単語をトークンと数えるか、固有名詞をどう扱うかなどによって変動します。  機械翻訳システムなどによってカウントすると、さらに数値が変動する可能性があります。\n",
            "\n"
          ]
        }
      ]
    }
  ]
}