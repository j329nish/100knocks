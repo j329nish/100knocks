{
  "nbformat": 4,
  "nbformat_minor": 0,
  "metadata": {
    "colab": {
      "provenance": []
    },
    "kernelspec": {
      "name": "python3",
      "display_name": "Python 3"
    },
    "language_info": {
      "name": "python"
    }
  },
  "cells": [
    {
      "cell_type": "markdown",
      "source": [
        "# 第5章: 大規模言語モデル"
      ],
      "metadata": {
        "id": "XdSRxgxSCpLP"
      }
    },
    {
      "cell_type": "markdown",
      "source": [
        "## 40. Zero-Shot推論"
      ],
      "metadata": {
        "id": "wkoKRZfGCskV"
      }
    },
    {
      "cell_type": "code",
      "execution_count": 1,
      "metadata": {
        "id": "KIFIRTjCChoZ"
      },
      "outputs": [],
      "source": [
        "# Geminiのライブラリのインストール\n",
        "!pip install -q -U google-generativeai"
      ]
    },
    {
      "cell_type": "code",
      "source": [
        "# APIキーの読み込み\n",
        "from google.colab import userdata\n",
        "import google.generativeai as genai\n",
        "\n",
        "GEMINI_API_KEY = userdata.get(\"GEMINI_API_KEY\")\n",
        "genai.configure(api_key=GEMINI_API_KEY)"
      ],
      "metadata": {
        "id": "AhlmfymLfd5L"
      },
      "execution_count": 2,
      "outputs": []
    },
    {
      "cell_type": "code",
      "source": [
        "import csv\n",
        "\n",
        "model = genai.GenerativeModel(\"gemini-1.5-flash\")\n",
        "prompt = \"\"\n",
        "\n",
        "# CSVファイルを読み込む\n",
        "with open(\"./data/llm-prompts.csv\", \"r\", encoding=\"utf-8\") as f:\n",
        "  reader = csv.DictReader(f)\n",
        "  for row in reader:\n",
        "    if int(row[\"id\"]) == 401:\n",
        "      prompt = row[\"question\"]\n",
        "      break\n",
        "\n",
        "response = model.generate_content(prompt)\n",
        "print(response.text)\n",
        "\n",
        "# Gemini_APIの使用  https://qiita.com/zukki2/items/10bfeb1c4330aa18ff87"
      ],
      "metadata": {
        "id": "U4BQc4Wgfs8C",
        "colab": {
          "base_uri": "https://localhost:8080/",
          "height": 228
        },
        "outputId": "03e6fda4-ca34-40a1-dc0c-b46c82fccd57"
      },
      "execution_count": 29,
      "outputs": [
        {
          "output_type": "stream",
          "name": "stdout",
          "text": [
            "これらの出来事を年代順に並べると以下のようになります。\n",
            "\n",
            "1. **イ　嵯峨天皇は，藤原冬嗣らを蔵人頭に任命した。**　嵯峨天皇の治世は809年から823年。藤原冬嗣は嵯峨天皇の治世中に蔵人頭を務めました。\n",
            "\n",
            "2. **ウ　藤原良房は，承和の変後，藤原氏の中での北家の優位を確立した。**　承和の変は842年。この変の後、藤原良房は権勢を確固たるものにしました。\n",
            "\n",
            "3. **ア　藤原時平は，策謀を用いて菅原道真を政界から追放した。**　菅原道真の左遷は894年。これはイ、ウの出来事の後です。\n",
            "\n",
            "\n",
            "よって、年代順は イ → ウ → ア となります。\n",
            "\n"
          ]
        }
      ]
    },
    {
      "cell_type": "markdown",
      "source": [
        "## 41. Few-Shot推論"
      ],
      "metadata": {
        "id": "TMmLByxsgrD2"
      }
    },
    {
      "cell_type": "code",
      "source": [
        "model = genai.GenerativeModel(\"gemini-1.5-flash\")\n",
        "few_shot = \"\"\n",
        "question = \"\"\n",
        "\n",
        "# CSVファイルを読み込む\n",
        "with open(\"./data/llm-prompts.csv\", \"r\", encoding=\"utf-8\") as f:\n",
        "  reader = csv.DictReader(f)\n",
        "  for row in reader:\n",
        "    if (int(row[\"id\"]) >= 410 and int(row[\"id\"]) <= 414):\n",
        "      few_shot += (\"question:\" + row[\"question\"] + \" answer:\" + row[\"answer\"] + \" \")  # 質問と答えを連結\n",
        "    elif (int(row[\"id\"]) == 401):\n",
        "      question = (\"question:\" + row[\"question\"] + \" answer:\")\n",
        "prompt = few_shot + question\n",
        "\n",
        "response = model.generate_content(prompt)\n",
        "print(response.text)"
      ],
      "metadata": {
        "colab": {
          "base_uri": "https://localhost:8080/",
          "height": 52
        },
        "id": "QaKK3oo34wsc",
        "outputId": "dd4d1e52-2b85-415c-e081-41eb08ae91c4"
      },
      "execution_count": 53,
      "outputs": [
        {
          "output_type": "stream",
          "name": "stdout",
          "text": [
            "解答: イ→ウ→ア\n",
            "\n"
          ]
        }
      ]
    },
    {
      "cell_type": "markdown",
      "source": [
        "## 42. 多肢選択問題の正解率"
      ],
      "metadata": {
        "id": "WnL-iALExC--"
      }
    },
    {
      "cell_type": "code",
      "source": [
        "import time\n",
        "\n",
        "model = genai.GenerativeModel(\"gemini-1.5-flash\")\n",
        "correct = []\n",
        "answer = []\n",
        "\n",
        "# CSVファイルを読み込む\n",
        "# business_ethics.csvファイルのカラムをquestion,A,B,C,D,answerとする\n",
        "with open(\"./data/business_ethics.csv\", \"r\", encoding=\"utf-8-sig\") as f:\n",
        "  reader = csv.DictReader(f)\n",
        "  for row in reader:\n",
        "    prompt = (\"question:\" + row[\"question\"] + \"A:\" + row[\"A\"] + \"B:\" + row[\"B\"] + \"C:\" + row[\"C\"] + \"D:\" + row[\"D\"] + \"A, B, C, Dのいずれかの記号のみを出力してください。\")\n",
        "    response = model.generate_content(prompt)\n",
        "    correct.append(row[\"answer\"].strip())\n",
        "    answer.append(response.text.strip())\n",
        "    time.sleep(4) # 1分に15回のリクエスト制限\n",
        "\n",
        "acc = len(set(correct) and set(answer)) / len(correct)\n",
        "print(f\"{acc * 100:.2f}%\")\n",
        "\n",
        "# sleep関数 https://qiita.com/shi_ei/items/2a88ba1796a4f8f7ad0a"
      ],
      "metadata": {
        "colab": {
          "base_uri": "https://localhost:8080/",
          "height": 34
        },
        "id": "ieaQ5lSmH_F7",
        "outputId": "11f291ed-25a4-4233-dc0b-419ab01ac72e"
      },
      "execution_count": 72,
      "outputs": [
        {
          "output_type": "stream",
          "name": "stdout",
          "text": [
            "5.81%\n"
          ]
        }
      ]
    },
    {
      "cell_type": "markdown",
      "source": [
        "## 43. 応答のバイアス"
      ],
      "metadata": {
        "id": "t5Ppleg5xGjF"
      }
    },
    {
      "cell_type": "code",
      "source": [
        "model = genai.GenerativeModel(\"gemini-1.5-flash\")\n",
        "correct = []\n",
        "answer = []\n",
        "\n",
        "# CSVファイルを読み込む\n",
        "with open(\"./data/business_ethics.csv\", \"r\", encoding=\"utf-8-sig\") as f:\n",
        "  reader = csv.DictReader(f)\n",
        "  for row in reader:\n",
        "    # プロンプトの一部をエストニア語（母語話者が少ない）に変更\n",
        "    prompt = (\"küsimus:\" + row[\"question\"] + \"A:\" + row[\"A\"] + \"B:\" + row[\"B\"] + \"C:\" + row[\"C\"] + \"D:\" + row[\"D\"] + \"Palun väljasta ainult üks sümbol A, B, C või D.\")\n",
        "    response = model.generate_content(prompt)\n",
        "    correct.append(row[\"answer\"].strip())\n",
        "    answer.append(response.text.strip())\n",
        "    time.sleep(4) # 1分に15回のリクエスト制限\n",
        "\n",
        "acc = len(set(correct) and set(answer)) / len(correct)\n",
        "print(f\"{acc * 100:.2f}%\")"
      ],
      "metadata": {
        "id": "EnpYk7OnxIQh",
        "colab": {
          "base_uri": "https://localhost:8080/",
          "height": 34
        },
        "outputId": "d52d1c62-5f94-4f50-80bf-0f59d0aefa11"
      },
      "execution_count": 73,
      "outputs": [
        {
          "output_type": "stream",
          "name": "stdout",
          "text": [
            "5.81%\n"
          ]
        }
      ]
    },
    {
      "cell_type": "markdown",
      "source": [
        "## 44. 対話"
      ],
      "metadata": {
        "id": "q9AkYO-_xJVT"
      }
    },
    {
      "cell_type": "code",
      "source": [
        "model = genai.GenerativeModel(\"gemini-1.5-flash\")\n",
        "question = (\"つばめちゃんは渋谷駅から東急東横線に乗り、自由が丘駅で乗り換えました。東急大井町線の大井町方面の電車に乗り換えたとき、各駅停車に乗車すべきところ、間違えて急行に乗車してしまったことに気付きました。自由が丘の次の急行停車駅で降車し、反対方向の電車で一駅戻った駅がつばめちゃんの目的地でした。目的地の駅の名前を答えてください。\")\n",
        "response = model.generate_content(question)\n",
        "print(response.text)"
      ],
      "metadata": {
        "id": "ztIcY-cdxKuo",
        "colab": {
          "base_uri": "https://localhost:8080/",
          "height": 72
        },
        "outputId": "66909143-9d7c-4cca-cfd7-0d664ea89b74"
      },
      "execution_count": 74,
      "outputs": [
        {
          "output_type": "stream",
          "name": "stdout",
          "text": [
            "つばめちゃんが間違えて急行に乗車し、自由が丘の次の急行停車駅で降車したということは、次の駅は**武蔵小山**です。そこから反対方向の電車で一駅戻ると、目的地の駅は**戸越公園**になります。\n",
            "\n"
          ]
        }
      ]
    }
  ]
}