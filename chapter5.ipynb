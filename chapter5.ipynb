{
  "nbformat": 4,
  "nbformat_minor": 0,
  "metadata": {
    "colab": {
      "provenance": [],
      "collapsed_sections": [
        "wkoKRZfGCskV",
        "TMmLByxsgrD2",
        "q9AkYO-_xJVT",
        "_imVfAPKDCyK",
        "YEiaDLmeNud5"
      ]
    },
    "kernelspec": {
      "name": "python3",
      "display_name": "Python 3"
    },
    "language_info": {
      "name": "python"
    }
  },
  "cells": [
    {
      "cell_type": "markdown",
      "source": [
        "# 第5章: 大規模言語モデル"
      ],
      "metadata": {
        "id": "XdSRxgxSCpLP"
      }
    },
    {
      "cell_type": "markdown",
      "source": [
        "## 40. Zero-Shot推論"
      ],
      "metadata": {
        "id": "wkoKRZfGCskV"
      }
    },
    {
      "cell_type": "code",
      "execution_count": 1,
      "metadata": {
        "id": "KIFIRTjCChoZ"
      },
      "outputs": [],
      "source": [
        "# Geminiのライブラリのインストール\n",
        "!pip install -q -U google-generativeai"
      ]
    },
    {
      "cell_type": "code",
      "source": [
        "# APIキーの読み込み\n",
        "from google.colab import userdata\n",
        "import google.generativeai as genai\n",
        "\n",
        "GEMINI_API_KEY = userdata.get(\"GEMINI_API_KEY\")\n",
        "genai.configure(api_key=GEMINI_API_KEY)"
      ],
      "metadata": {
        "id": "AhlmfymLfd5L"
      },
      "execution_count": 2,
      "outputs": []
    },
    {
      "cell_type": "code",
      "source": [
        "import pandas as pd\n",
        "\n",
        "model = genai.GenerativeModel(\"gemini-1.5-flash\")\n",
        "df = pd.read_csv(\"./data/llm-prompts.csv\", encoding=\"utf-8\")\n",
        "\n",
        "prompt = df.loc[df[\"id\"] == 401, \"question\"].values[0]\n",
        "response = model.generate_content(prompt)\n",
        "print(response.text)\n",
        "\n",
        "# Gemini_APIの使用  https://qiita.com/zukki2/items/10bfeb1c4330aa18ff87"
      ],
      "metadata": {
        "id": "U4BQc4Wgfs8C",
        "colab": {
          "base_uri": "https://localhost:8080/",
          "height": 228
        },
        "outputId": "a6c39c50-44e7-4def-be79-51c464eb798f"
      },
      "execution_count": 3,
      "outputs": [
        {
          "output_type": "stream",
          "name": "stdout",
          "text": [
            "正しい順番はイ、ウ、アです。\n",
            "\n",
            "* **イ：嵯峨天皇と藤原冬嗣**　嵯峨天皇は9世紀前半(809-823年在位)の天皇です。藤原冬嗣はその治世中に蔵人頭に任命されています。\n",
            "\n",
            "* **ウ：承和の変と藤原良房**　承和の変は834年。藤原良房はこの変の後、権力を掌握し北家の優位を確立しました。これはイよりも後の出来事です。\n",
            "\n",
            "* **ア：菅原道真の左遷**　菅原道真の左遷は894年。これは承和の変、そして嵯峨天皇の時代よりもずっと後の出来事です。藤原時平は関与した人物として知られています。\n",
            "\n",
            "\n",
            "したがって、年代順に並べると、イ→ウ→アとなります。\n",
            "\n"
          ]
        }
      ]
    },
    {
      "cell_type": "markdown",
      "source": [
        "## 41. Few-Shot推論"
      ],
      "metadata": {
        "id": "TMmLByxsgrD2"
      }
    },
    {
      "cell_type": "code",
      "source": [
        "model = genai.GenerativeModel(\"gemini-1.5-flash\")\n",
        "df = pd.read_csv(\"./data/llm-prompts.csv\", encoding=\"utf-8\")\n",
        "few_shot_df = df[(df[\"id\"] >= 410) & (df[\"id\"] <= 414)]\n",
        "\n",
        "few_shot = \"\"\n",
        "for _, row in few_shot_df.iterrows():\n",
        "  few_shot += f\"question:{row['question']} answer:{row['answer']} \"\n",
        "question = f\"question:{df.loc[df['id'] == 401, 'question'].values[0]} answer:\"\n",
        "prompt = few_shot + question\n",
        "\n",
        "response = model.generate_content(prompt)\n",
        "print(response.text)"
      ],
      "metadata": {
        "id": "QaKK3oo34wsc",
        "colab": {
          "base_uri": "https://localhost:8080/",
          "height": 52
        },
        "outputId": "f41ea98c-5562-4cb1-c551-51ecfcb1fb20"
      },
      "execution_count": 4,
      "outputs": [
        {
          "output_type": "stream",
          "name": "stdout",
          "text": [
            "解答: イ→ウ→ア\n",
            "\n"
          ]
        }
      ]
    },
    {
      "cell_type": "markdown",
      "source": [
        "## 42. 多肢選択問題の正解率"
      ],
      "metadata": {
        "id": "WnL-iALExC--"
      }
    },
    {
      "cell_type": "code",
      "source": [
        "import time\n",
        "\n",
        "model = genai.GenerativeModel(\"gemini-1.5-flash\")\n",
        "df = pd.read_csv(\"./data/business_ethics.csv\", encoding=\"utf-8-sig\")\n",
        "correct = df[\"answer\"].tolist()\n",
        "answer = []\n",
        "\n",
        "for _, row in df.iterrows():\n",
        "  prompt = (\n",
        "    f\"question:{row['question']}A:{row['A']}B:{row['B']}C:{row['C']}D:{row['D']}\"\n",
        "    \"A, B, C, Dの記号を選択して、いずれかの記号のみを出力してください。記号でない出力は扱えません。\"\n",
        "  )\n",
        "  while(1):\n",
        "    response = model.generate_content(prompt)\n",
        "    resp_text = response.text.strip()\n",
        "    if (resp_text in [\"A\", \"B\", \"C\", \"D\"]):\n",
        "      answer.append(resp_text)\n",
        "      break\n",
        "    else:\n",
        "      time.sleep(4)\n",
        "      print(response.text)\n",
        "  time.sleep(4) # 1分に15回のリクエスト制限\n",
        "\n",
        "df[\"prediction\"] = answer\n",
        "accuracy = (df[\"prediction\"] == df[\"answer\"]).mean()\n",
        "print(f\"{accuracy * 100:.2f}%\")\n",
        "\n",
        "# sleep関数 https://qiita.com/shi_ei/items/2a88ba1796a4f8f7ad0a"
      ],
      "metadata": {
        "colab": {
          "base_uri": "https://localhost:8080/",
          "height": 1000
        },
        "id": "ieaQ5lSmH_F7",
        "outputId": "95a2373a-e384-4126-9401-121820109bd5"
      },
      "execution_count": 6,
      "outputs": [
        {
          "output_type": "stream",
          "name": "stdout",
          "text": [
            "解答に必要な情報が不足しています。規定の内容と1,2,3,4が何を指しているのかが不明です。  そのため、A, B, C, D のいずれも選択できません。\n",
            "\n",
            "回答するには、規定の内容と施行方法1、2、3、4の内容が必要です。  提示された情報だけでは回答できません。\n",
            "\n",
            "A, B, C, D のいずれかの記号を選択するには、規定の内容が提示されていないため、回答できません。\n",
            "\n",
            "A, B, C, Dのいずれかの記号を選択するには、規定の内容が提示されていないため不可能です。規定の内容が提示されれば、適切な記号を選択できます。\n",
            "\n",
            "A, B, C, D のどれが正しいかを判断するための情報が不足しています。  規定の内容が提示されていません。  そのため、A、B、C、D のいずれも選択できません。\n",
            "\n",
            "A, B, C, Dのどれが正しいか情報がないため、回答できません。\n",
            "\n",
            "この質問には、規定の内容が提示されていません。規定の内容が提示されないと、正しい施行方法を選ぶことができません。そのため、A, B, C, Dのいずれも選択できません。\n",
            "\n",
            "A, B, C, Dのどれが正しいかという情報がないため、回答できません。\n",
            "\n",
            "A, B, C, Dのどれが正しいか具体的な規定の内容が提示されていないため、回答できません。\n",
            "\n",
            "A, B, C, Dのどれを選べば良いか、規定の内容が提示されていません。規定の内容が分からないと、正しい答えを選ぶことができません。\n",
            "\n",
            "A, B, C, Dのどれが正解なのか、規定の内容が提示されていません。そのため、A, B, C, Dのいずれも選択できません。  問題文に規定の内容を追加してください。\n",
            "\n",
            "回答を提示するだけの情報が不足しています。「規定」の内容と「1,2,3,4」が何を指しているのかが不明です。  規定の内容と1,2,3,4の選択肢が提示されれば、正しい解答を選ぶことができます。\n",
            "\n",
            "A, B, C, Dのどれを選択するかは、規定の内容が提示されていないため判断できません。規定の内容を示してください。\n",
            "\n",
            "A, B, C, Dのどれを選べば良いか、規定の内容が提示されていません。規定の内容が分からないと回答できません。\n",
            "\n",
            "解答に必要な情報が不足しています。規定の内容と1, 2, 3, 4が何を指しているのかが不明です。  規定の内容と1, 2, 3, 4の対応を示す情報がないため、A, B, C, D のいずれも選択できません。\n",
            "\n",
            "回答を提示する前に、規定の内容が提示されていません。規定の内容が分からないと、施行方法を選ぶことができません。規定の内容を教えてください。\n",
            "\n",
            "解答に必要な情報が不足しています。規定の内容と施行方法1,2,3,4の内容が提示されていません。そのため、A, B, C, Dのいずれも選択できません。\n",
            "\n",
            "A, B, C, Dのどれが正しいか、規定の内容が提示されていません。規定の内容が提示されれば、正しい答えを選ぶことができます。\n",
            "\n",
            "回答を提示する前に、規定の内容が提示されていません。規定の内容がわからないと、施行方法を選択できません。規定の内容を提示してください。\n",
            "\n",
            "回答するには、規定の内容と1, 2, 3, 4が何を指しているのかの情報が必要です。  問題文にその情報がないため、A, B, C, D のどれを選ぶべきかは判断できません。\n",
            "\n",
            "A, B, C, Dのいずれかを選択するには、規定の内容が提示されていません。規定の内容が提示されれば、正しい施行方法を選択できます。\n",
            "\n",
            "この質問には、規定の内容が提示されていません。そのため、A、B、C、Dのどれが正しい施行方法なのか判断できません。  追加情報が必要です。\n",
            "\n",
            "回答を導き出すための情報が不足しています。規定の内容と1, 2, 3, 4が何を指しているのかが分からなければ、正しい答えを選ぶことができません。\n",
            "\n",
            "解答に必要な情報が不足しています。規定の内容と1,2,3,4が何を指しているのかが分かりません。\n",
            "\n",
            "A, B, C, Dのどれが正しいかという情報がないため、回答できません。\n",
            "\n",
            "A, B, C, Dのどれを選択するかは、規定の内容が提示されていないため判断できません。  規定の内容を示してください。\n",
            "\n",
            "回答するには、規定の内容と1,2,3,4が何を指しているかの情報が必要です。  問題文にそれらの情報が不足しているので、A, B, C, D のいずれも選択できません。\n",
            "\n",
            "この質問には、規定の内容が提示されていません。規定の内容が分からないため、A、B、C、Dのどれが正しい施行方法なのか判断できません。  規定の内容を示してください。\n",
            "\n",
            "A, B, C, Dのどれが正しいかという情報がないため、答えられません。  規定の内容が提示されていないと、施行方法を選択できません。\n",
            "\n",
            "回答を提示するには、規定の内容が提示されていません。規定の内容が分からなければ、施行方法を選ぶことができません。\n",
            "\n",
            "A, B, C, Dのいずれかの記号を選択するには、規定の内容が提示されていないため、回答できません。\n",
            "\n",
            "A, B, C, Dのどれが正しいかの情報がないため、回答できません。\n",
            "\n",
            "回答を提示する前に、規定の内容が提示されていません。規定の内容が分からなければ、施行方法を選択できません。規定の内容を提供してください。\n",
            "\n",
            "A, B, C, Dのいずれかを選択するには、規定の内容が提示されていません。規定の内容が分からないため、正しい答えを選ぶことができません。\n",
            "\n",
            "回答するには、規定の内容と施行方法1, 2, 3, 4の内容が提示されていないため不可能です。  必要な情報が提供されていません。\n",
            "\n",
            "A, B, C, Dのどれを選べば良いのか、規定の内容が提示されていません。規定の内容がわからないと、正しい答えを選ぶことができません。\n",
            "\n",
            "回答を提示するには、規定の内容が提示されていません。規定の内容が分かれば、正しい施行方法を選択できます。\n",
            "\n",
            "A, B, C, Dのどれが正しいのか、規定の内容が提示されていないため回答できません。\n",
            "\n",
            "回答が得られません。規定の内容が提示されていません。規定の内容が提示されれば、正しい施行方法を選択できます。\n",
            "\n",
            "A, B, C, Dのどれかを選択するには、規定の内容が提示されていません。規定の内容が分からなければ、正しい施行方法を選ぶことができません。\n",
            "\n",
            "A, B, C, Dのいずれかを選択するには、規定の内容が提示されていません。規定の内容が分からないため、回答できません。\n",
            "\n",
            "回答を提示するだけの情報が不足しています。規定の内容と、1, 2, 3, 4が何を指しているのかがわからないため、A, B, C, D のどれが正しい施行方法なのか判断できません。\n",
            "\n",
            "A, B, C, Dのいずれかを選択するには、規定の内容が提示されていません。規定の内容がわからないため、正しい施行方法を選ぶことができません。\n",
            "\n",
            "回答を提示する前に、「規定」の内容が提示されていません。規定の内容が分からなければ、施行方法を選択できません。規定の内容を教えてください。\n",
            "\n",
            "回答を提示する前に、規定の内容が何であるかを知る必要があります。規定の内容が提示されていないため、A、B、C、Dのどれが正しい施行方法なのか判断できません。\n",
            "\n",
            "解答に必要な情報が不足しています。規定の内容と施行方法1, 2, 3, 4の内容が提示されていません。\n",
            "\n",
            "A, B, C, D のいずれかの選択肢が提示されていませんので、回答できません。  施行方法1, 2, 3, 4 の内容が提示されていなければ、正しい答えを選ぶことができません。\n",
            "\n",
            "回答を導き出すには、規定の内容が提示されていないため不可能です。  問題文に規定の内容を追加してください。\n",
            "\n",
            "回答ができないです。規定の内容が提示されていません。規定の内容が提示されれば、正しい施行方法を選択できます。\n",
            "\n",
            "回答を提示するには、規定の内容が分かっていません。規定の内容を示してください。\n",
            "\n",
            "A, B, C, Dのいずれかを選択するには、規定の内容が提示されていません。規定の内容が分からなければ、正しい施行方法を選ぶことができません。\n",
            "\n"
          ]
        },
        {
          "output_type": "error",
          "ename": "KeyboardInterrupt",
          "evalue": "",
          "traceback": [
            "\u001b[0;31m---------------------------------------------------------------------------\u001b[0m",
            "\u001b[0;31mKeyboardInterrupt\u001b[0m                         Traceback (most recent call last)",
            "\u001b[0;32m<ipython-input-6-7837df43f487>\u001b[0m in \u001b[0;36m<cell line: 0>\u001b[0;34m()\u001b[0m\n\u001b[1;32m     18\u001b[0m       \u001b[0;32mbreak\u001b[0m\u001b[0;34m\u001b[0m\u001b[0;34m\u001b[0m\u001b[0m\n\u001b[1;32m     19\u001b[0m     \u001b[0;32melse\u001b[0m\u001b[0;34m:\u001b[0m\u001b[0;34m\u001b[0m\u001b[0;34m\u001b[0m\u001b[0m\n\u001b[0;32m---> 20\u001b[0;31m       \u001b[0mtime\u001b[0m\u001b[0;34m.\u001b[0m\u001b[0msleep\u001b[0m\u001b[0;34m(\u001b[0m\u001b[0;36m4\u001b[0m\u001b[0;34m)\u001b[0m\u001b[0;34m\u001b[0m\u001b[0;34m\u001b[0m\u001b[0m\n\u001b[0m\u001b[1;32m     21\u001b[0m       \u001b[0mprint\u001b[0m\u001b[0;34m(\u001b[0m\u001b[0mresponse\u001b[0m\u001b[0;34m.\u001b[0m\u001b[0mtext\u001b[0m\u001b[0;34m)\u001b[0m\u001b[0;34m\u001b[0m\u001b[0;34m\u001b[0m\u001b[0m\n\u001b[1;32m     22\u001b[0m   \u001b[0mtime\u001b[0m\u001b[0;34m.\u001b[0m\u001b[0msleep\u001b[0m\u001b[0;34m(\u001b[0m\u001b[0;36m4\u001b[0m\u001b[0;34m)\u001b[0m \u001b[0;31m# 1分に15回のリクエスト制限\u001b[0m\u001b[0;34m\u001b[0m\u001b[0;34m\u001b[0m\u001b[0m\n",
            "\u001b[0;31mKeyboardInterrupt\u001b[0m: "
          ]
        }
      ]
    },
    {
      "cell_type": "markdown",
      "source": [
        "## 43. 応答のバイアス"
      ],
      "metadata": {
        "id": "t5Ppleg5xGjF"
      }
    },
    {
      "cell_type": "code",
      "source": [
        "model = genai.GenerativeModel(\"gemini-1.5-flash\")\n",
        "df = pd.read_csv(\"./data/business_ethics.csv\", encoding=\"utf-8-sig\")\n",
        "correct = df[\"answer\"].tolist()\n",
        "answer = []\n",
        "\n",
        "for _, row in df.iterrows():\n",
        "  # プロンプトの一部をエストニア語（母語話者が少ない）に変更\n",
        "  prompt = (\n",
        "    f\"küsimus:{row['question']}A:{row['A']}B:{row['B']}C:{row['C']}D:{row['D']}\"\n",
        "    \"Valige sümbol A, B, C või D ja väljundige ainult üks sümbol.Mitte-sümbolite väljundit ei saa käsitleda.\"\n",
        "  )\n",
        "  while(1):\n",
        "    response = model.generate_content(prompt)\n",
        "    resp_text = response.text.strip()\n",
        "    if (resp_text in [\"A\", \"B\", \"C\", \"D\"]):\n",
        "      answer.append(resp_text)\n",
        "      break\n",
        "    else:\n",
        "      time.sleep(4)\n",
        "  time.sleep(4) # 1分に15回のリクエスト制限\n",
        "\n",
        "df[\"prediction\"] = answer\n",
        "accuracy = (df[\"prediction\"] == df[\"answer\"]).mean()\n",
        "print(f\"{accuracy * 100:.2f}%\")"
      ],
      "metadata": {
        "id": "EnpYk7OnxIQh"
      },
      "execution_count": null,
      "outputs": []
    },
    {
      "cell_type": "markdown",
      "source": [
        "## 44. 対話"
      ],
      "metadata": {
        "id": "q9AkYO-_xJVT"
      }
    },
    {
      "cell_type": "code",
      "source": [
        "model = genai.GenerativeModel(\"gemini-1.5-flash\")\n",
        "df = pd.read_csv(\"./data/llm-prompts.csv\", encoding=\"utf-8\")\n",
        "\n",
        "prompt = df.loc[df[\"id\"] == 441, \"question\"].values[0]\n",
        "chat = model.start_chat(history=[])\n",
        "response = chat.send_message(prompt)\n",
        "print(response.text)"
      ],
      "metadata": {
        "id": "ztIcY-cdxKuo"
      },
      "execution_count": null,
      "outputs": []
    },
    {
      "cell_type": "markdown",
      "source": [
        "## 45. マルチターン対話"
      ],
      "metadata": {
        "id": "_imVfAPKDCyK"
      }
    },
    {
      "cell_type": "code",
      "source": [
        "model = genai.GenerativeModel(\"gemini-1.5-flash\")\n",
        "df = pd.read_csv(\"./data/llm-prompts.csv\", encoding=\"utf-8\")\n",
        "\n",
        "prompt1 = df.loc[df[\"id\"] == 441, \"question\"].values[0]\n",
        "prompt2 = df.loc[df[\"id\"] == 451, \"question\"].values[0]\n",
        "\n",
        "chat = model.start_chat(history=[])\n",
        "response = chat.send_message(prompt1)\n",
        "response = chat.send_message(prompt2)\n",
        "print(response.text)"
      ],
      "metadata": {
        "id": "m1mPbYzeDFjO"
      },
      "execution_count": null,
      "outputs": []
    },
    {
      "cell_type": "markdown",
      "source": [
        "## 46. 川柳の生成"
      ],
      "metadata": {
        "id": "FeRUHDF3DF-w"
      }
    },
    {
      "cell_type": "code",
      "source": [
        "model = genai.GenerativeModel(\"gemini-1.5-flash\")\n",
        "df = pd.read_csv(\"./data/llm-prompts.csv\", encoding=\"utf-8\")\n",
        "Senryu = []\n",
        "\n",
        "prompt = df.loc[df[\"id\"] == 461, \"question\"].values[0]\n",
        "for i in range(10):\n",
        "  chat = model.start_chat(history=[])\n",
        "  response = chat.send_message(prompt)\n",
        "  Senryu.append(response.text.strip())\n",
        "\n",
        "for i in range(10):\n",
        "  print(Senryu[i])"
      ],
      "metadata": {
        "id": "UYR4F3YKDIxb"
      },
      "execution_count": null,
      "outputs": []
    },
    {
      "cell_type": "markdown",
      "source": [
        "## 47. LLMによる評価"
      ],
      "metadata": {
        "id": "CmpYJcNcNpG8"
      }
    },
    {
      "cell_type": "code",
      "source": [
        "model = genai.GenerativeModel(\"gemini-1.5-flash\")\n",
        "df = pd.read_csv(\"./data/llm-prompts.csv\", encoding=\"utf-8\")\n",
        "eval = []\n",
        "\n",
        "question = df.loc[df[\"id\"] == 471, \"question\"].values[0]\n",
        "for i in range(10):\n",
        "  prompt = question + Senryu[i]\n",
        "  response = model.generate_content(prompt)\n",
        "  eval.append(f\"{Senryu[i]}: {response.text.strip()}\")\n",
        "\n",
        "for i in range(10):\n",
        "  print(eval[i])"
      ],
      "metadata": {
        "id": "nGq8aRw1Nrde"
      },
      "execution_count": null,
      "outputs": []
    },
    {
      "cell_type": "markdown",
      "source": [
        "## 48. LLMによる評価の頑健性"
      ],
      "metadata": {
        "id": "N5WldzBpNrws"
      }
    },
    {
      "cell_type": "code",
      "source": [
        "model = genai.GenerativeModel(\"gemini-1.5-flash\")\n",
        "df = pd.read_csv(\"./data/llm-prompts.csv\", encoding=\"utf-8\")\n",
        "eval = []\n",
        "\n",
        "question = df.loc[df[\"id\"] == 481, \"question\"].values[0]\n",
        "for i in range(10):\n",
        "  prompt = question + Senryu[i]\n",
        "  response = model.generate_content(prompt)\n",
        "  eval.append(f\"{Senryu[i]}: {response.text.strip()}\")\n",
        "\n",
        "for i in range(10):\n",
        "  print(eval[i])"
      ],
      "metadata": {
        "id": "AAJLUeQqNt9Z"
      },
      "execution_count": null,
      "outputs": []
    },
    {
      "cell_type": "markdown",
      "source": [
        "## 49. トークン化"
      ],
      "metadata": {
        "id": "YEiaDLmeNud5"
      }
    },
    {
      "cell_type": "code",
      "source": [
        "import pandas as pd\n",
        "\n",
        "model = genai.GenerativeModel(\"gemini-1.5-flash\")\n",
        "df = pd.read_csv(\"./data/llm-prompts.csv\", encoding=\"utf-8\")\n",
        "\n",
        "text = df.loc[df[\"id\"] == 491, \"question\"].values[0]\n",
        "question = df.loc[df[\"id\"] == 492, \"question\"].values[0]\n",
        "prompt = (f\"文章:{text} 質問:{question}\")\n",
        "\n",
        "response = model.generate_content(prompt)\n",
        "print(response.text)"
      ],
      "metadata": {
        "id": "1PXEQ0uGNwRp"
      },
      "execution_count": null,
      "outputs": []
    }
  ]
}