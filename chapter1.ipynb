{
  "nbformat": 4,
  "nbformat_minor": 0,
  "metadata": {
    "colab": {
      "provenance": []
    },
    "kernelspec": {
      "name": "python3",
      "display_name": "Python 3"
    },
    "language_info": {
      "name": "python"
    }
  },
  "cells": [
    {
      "cell_type": "markdown",
      "metadata": {
        "id": "zq4zw4iTg4jA",
        "jp-MarkdownHeadingCollapsed": true
      },
      "source": [
        "# 第1章: 準備運動"
      ]
    },
    {
      "cell_type": "markdown",
      "metadata": {
        "jp-MarkdownHeadingCollapsed": true,
        "id": "4_4g4_0P7W5z"
      },
      "source": [
        "## 00. 文字列の逆順"
      ]
    },
    {
      "cell_type": "code",
      "execution_count": 1,
      "metadata": {
        "colab": {
          "base_uri": "https://localhost:8080/"
        },
        "id": "oEeXoBgKfhk8",
        "outputId": "fab0e692-bd00-4f47-8e69-abbfde9bce26"
      },
      "outputs": [
        {
          "output_type": "stream",
          "name": "stdout",
          "text": [
            "desserts\n"
          ]
        }
      ],
      "source": [
        "sentence = 'stressed'\n",
        "answer = sentence[::-1]\n",
        "print(answer)\n",
        "\n",
        "# スライス操作 https://hibiki-press.tech/python/slice/1"
      ]
    },
    {
      "cell_type": "markdown",
      "metadata": {
        "jp-MarkdownHeadingCollapsed": true,
        "id": "paKfGiPp7W5z"
      },
      "source": [
        "## 01. 「パタトクカシーー」"
      ]
    },
    {
      "cell_type": "code",
      "execution_count": 2,
      "metadata": {
        "colab": {
          "base_uri": "https://localhost:8080/"
        },
        "id": "9HObO2d4hECx",
        "outputId": "b0117c15-b240-41d3-98ee-ed74073e872e"
      },
      "outputs": [
        {
          "output_type": "stream",
          "name": "stdout",
          "text": [
            "パトカー\n"
          ]
        }
      ],
      "source": [
        "sentence = 'パタトクカシーー'\n",
        "answer = sentence[::2]\n",
        "print(answer)"
      ]
    },
    {
      "cell_type": "markdown",
      "metadata": {
        "jp-MarkdownHeadingCollapsed": true,
        "id": "KKwS_TBF7W50"
      },
      "source": [
        "## 02. 「パトカー」＋「タクシー」＝「パタトクカシーー」"
      ]
    },
    {
      "cell_type": "code",
      "execution_count": 3,
      "metadata": {
        "colab": {
          "base_uri": "https://localhost:8080/"
        },
        "id": "qNzviSKqhET-",
        "outputId": "3dcc9349-98ff-44af-fdce-fd287b4b3764"
      },
      "outputs": [
        {
          "output_type": "stream",
          "name": "stdout",
          "text": [
            "パタトクカシーー\n"
          ]
        }
      ],
      "source": [
        "a = 'パトカー'\n",
        "b = 'タクシー'\n",
        "answer = ''\n",
        "\n",
        "for i in range(len(a)):\n",
        "  answer += a[i] + b[i]\n",
        "print(answer)\n",
        "\n",
        "# より良い方法\n",
        "# answer = ''.join([i + j for i, j in zip(a, b)])\n",
        "# print(answer)"
      ]
    },
    {
      "cell_type": "markdown",
      "metadata": {
        "jp-MarkdownHeadingCollapsed": true,
        "id": "zPj9iyO37W50"
      },
      "source": [
        "## 03. 円周率"
      ]
    },
    {
      "cell_type": "code",
      "execution_count": 4,
      "metadata": {
        "colab": {
          "base_uri": "https://localhost:8080/"
        },
        "id": "bECsYNFkhFaD",
        "outputId": "ee2944ec-e85a-4178-97c5-52ac9d108de8"
      },
      "outputs": [
        {
          "output_type": "stream",
          "name": "stdout",
          "text": [
            "[3, 1, 4, 1, 5, 9, 2, 6, 5, 3, 5, 8, 9, 7, 9]\n"
          ]
        }
      ],
      "source": [
        "import re\n",
        "\n",
        "sentence = 'Now I need a drink, alcoholic of course, after the heavy lectures involving quantum mechanics.'\n",
        "split_sentence = re.sub(r'[,.]', '', sentence).split()\n",
        "answer = [len(split_sentence[i]) for i in range(len(split_sentence))]\n",
        "print(answer)\n",
        "\n",
        "# 置き換え   https://note.nkmk.me/python-str-remove-strip/#replace\n",
        "# 正規表現   https://qiita.com/List202/items/05a27c46d9b11d04fb39\n",
        "# スプリット https://note.nkmk.me/python-split-rsplit-splitlines-re/#sep"
      ]
    },
    {
      "cell_type": "markdown",
      "metadata": {
        "jp-MarkdownHeadingCollapsed": true,
        "id": "2s5XiF-t7W50"
      },
      "source": [
        "## 04. 元素記号"
      ]
    },
    {
      "cell_type": "code",
      "execution_count": 5,
      "metadata": {
        "colab": {
          "base_uri": "https://localhost:8080/"
        },
        "id": "jYcNFq5FhFou",
        "outputId": "dd4d3f45-f566-4a66-9a80-07d4bb369a1d"
      },
      "outputs": [
        {
          "output_type": "stream",
          "name": "stdout",
          "text": [
            "[{'name': 'Hi', 'idx': 1}, {'name': 'H', 'idx': 2}, {'name': 'Li', 'idx': 3}, {'name': 'Be', 'idx': 4}, {'name': 'Bo', 'idx': 5}, {'name': 'C', 'idx': 6}, {'name': 'N', 'idx': 7}, {'name': 'O', 'idx': 8}, {'name': 'F', 'idx': 9}, {'name': 'N', 'idx': 10}, {'name': 'Na', 'idx': 11}, {'name': 'Mi', 'idx': 12}, {'name': 'Al', 'idx': 13}, {'name': 'Si', 'idx': 14}, {'name': 'Pe', 'idx': 15}, {'name': 'S', 'idx': 16}, {'name': 'C', 'idx': 17}, {'name': 'Ar', 'idx': 18}, {'name': 'Ki', 'idx': 19}, {'name': 'C', 'idx': 20}]\n"
          ]
        }
      ],
      "source": [
        "sentence = 'Hi He Lied Because Boron Could Not Oxidize Fluorine. New Nations Might Also Sign Peace Security Clause. Arthur King Can.'\n",
        "one_idx = [1, 5, 6, 7, 8, 9, 15, 16, 19]\n",
        "split_sentence = sentence.split()\n",
        "answer = []\n",
        "\n",
        "for i in range(len(split_sentence)):\n",
        "  if (i in one_idx):\n",
        "    answer.append({'name': split_sentence[i][:1], 'idx': i + 1})\n",
        "  else:\n",
        "    answer.append({'name': split_sentence[i][:2], 'idx': i + 1})\n",
        "\n",
        "print(answer)\n",
        "\n",
        "# 辞書&要素を含むか判定 https://www.javadrive.jp/python/list/index10.html#section1"
      ]
    },
    {
      "cell_type": "markdown",
      "metadata": {
        "jp-MarkdownHeadingCollapsed": true,
        "id": "hTgknDkR7W51"
      },
      "source": [
        "## 05. n-gram"
      ]
    },
    {
      "cell_type": "code",
      "execution_count": 6,
      "metadata": {
        "colab": {
          "base_uri": "https://localhost:8080/"
        },
        "id": "s4nZUXa5hF3N",
        "outputId": "d98b7a7b-e4cb-48d5-88f2-a9564517c9f0"
      },
      "outputs": [
        {
          "output_type": "stream",
          "name": "stdout",
          "text": [
            "['I ', ' a', 'am', 'm ', ' a', 'an', 'n ', ' N', 'NL', 'LP', 'Pe', 'er']\n",
            "[['I', 'am'], ['am', 'an'], ['an', 'NLPer']]\n"
          ]
        }
      ],
      "source": [
        "sentence = 'I am an NLPer'\n",
        "split_sentence = sentence.split()\n",
        "def n_gram(sentence, n):\n",
        "  return [sentence[idx:idx + n] for idx in range(len(sentence) - n + 1)]\n",
        "\n",
        "answer1 = n_gram(sentence, 2)\n",
        "answer2 = n_gram(split_sentence, 2)\n",
        "print(answer1)\n",
        "print(answer2)\n",
        "\n",
        "# n-gramとは https://qiita.com/kazmaw/items/4df328cba6429ec210fb"
      ]
    },
    {
      "cell_type": "markdown",
      "metadata": {
        "jp-MarkdownHeadingCollapsed": true,
        "id": "nxkUNigP7W51"
      },
      "source": [
        "## 06. 集合"
      ]
    },
    {
      "cell_type": "code",
      "execution_count": 7,
      "metadata": {
        "colab": {
          "base_uri": "https://localhost:8080/"
        },
        "id": "jV0vXUzNhGE5",
        "outputId": "c99ce3c5-14c5-44d6-ca68-96eb4066b0bd"
      },
      "outputs": [
        {
          "output_type": "stream",
          "name": "stdout",
          "text": [
            "{'ra', 'ad', 'ar', 'pa', 'di', 'ag', 'ph', 'gr', 'se', 'ap', 'is'} \n",
            " {'pa', 'ra', 'ap', 'ar'} \n",
            " {'di', 'se', 'ad', 'is'}\n"
          ]
        }
      ],
      "source": [
        "sentence1 = 'paraparaparadise'\n",
        "sentence2 = 'paragraph'\n",
        "x = set(n_gram(sentence1, 2))\n",
        "y = set(n_gram(sentence2, 2))\n",
        "\n",
        "union = x.union(y)\n",
        "intersection = x.intersection(y)\n",
        "difference = x.difference(y)\n",
        "print(union, '\\n', intersection, '\\n', difference)\n",
        "\n",
        "# 集合演算 https://jp-seemore.com/iot/python/9995/#toc11"
      ]
    },
    {
      "cell_type": "markdown",
      "metadata": {
        "jp-MarkdownHeadingCollapsed": true,
        "id": "6mspBRCY7W51"
      },
      "source": [
        "## 07. テンプレートによる文生成"
      ]
    },
    {
      "cell_type": "code",
      "execution_count": 8,
      "metadata": {
        "colab": {
          "base_uri": "https://localhost:8080/"
        },
        "id": "i8gka04ohGR9",
        "outputId": "d92a7e8c-3bfb-4078-c24a-e7d6af749956"
      },
      "outputs": [
        {
          "output_type": "stream",
          "name": "stdout",
          "text": [
            "12時の気温は22.4\n"
          ]
        }
      ],
      "source": [
        "x, y, z = 12, '気温', 22.4\n",
        "def temperature_text(x, y, z):\n",
        "  return str(x) + '時の' + str(y) + 'は' + str(z)\n",
        "\n",
        "answer = temperature_text(x, y, z)\n",
        "print(answer)"
      ]
    },
    {
      "cell_type": "markdown",
      "metadata": {
        "jp-MarkdownHeadingCollapsed": true,
        "id": "K8FtJ0un7W52"
      },
      "source": [
        "## 08. 暗号文"
      ]
    },
    {
      "cell_type": "code",
      "execution_count": 9,
      "metadata": {
        "colab": {
          "base_uri": "https://localhost:8080/"
        },
        "id": "UrEcnguLhGg8",
        "outputId": "37d501ed-20c3-42e8-a3cc-b444944f8634"
      },
      "outputs": [
        {
          "output_type": "stream",
          "name": "stdout",
          "text": [
            "['H', 'O', 'G', 'E', 's', 'l', 't', 'v']\n"
          ]
        }
      ],
      "source": [
        "sentence = 'HOGEhoge'\n",
        "def cipher(sentence):\n",
        "  return [chr(219 - ord(c)) if c.isalpha() and c.islower() else c for c in sentence]\n",
        "\n",
        "answer = cipher(sentence)\n",
        "print(answer)\n",
        "# 英小文字判定 https://hibiki-press.tech/python/isupper-islower/3728\n",
        "# 文字コード   https://qiita.com/ny7760/items/d9c247781a790210936d"
      ]
    },
    {
      "cell_type": "markdown",
      "metadata": {
        "jp-MarkdownHeadingCollapsed": true,
        "id": "4uBR9ZOI7W52"
      },
      "source": [
        "## 09. Typoglycemia"
      ]
    },
    {
      "cell_type": "code",
      "execution_count": 10,
      "metadata": {
        "colab": {
          "base_uri": "https://localhost:8080/"
        },
        "id": "SA287eathGw9",
        "outputId": "63ee25b7-d6e8-4f15-af58-c4c0b2da263a"
      },
      "outputs": [
        {
          "output_type": "stream",
          "name": "stdout",
          "text": [
            "I cdl'onut beleive that I cuold altalcuy ueasrndtnd what I was rinedag : the peemonahnl pewor of the hmuan mind .\n"
          ]
        }
      ],
      "source": [
        "import random\n",
        "\n",
        "sentence = \"I couldn't believe that I could actually understand what I was reading : the phenomenal power of the human mind .\"\n",
        "split_sentence = sentence.split()\n",
        "for i in range(len(split_sentence)):\n",
        "  word = split_sentence[i]\n",
        "  if (len(word) > 4):\n",
        "    middle_word = list(word[1:-1])\n",
        "    random.shuffle(middle_word)\n",
        "    split_sentence[i] = word[0] + ''.join(middle_word) + word[-1]\n",
        "\n",
        "answer = ' '.join(split_sentence)\n",
        "print(answer)\n",
        "\n",
        "# 並べ替え     https://pawalog.com/python/ramdom-shuffle#\n",
        "# 文字列の結合 https://note.nkmk.me/python-string-concat/"
      ]
    }
  ]
}